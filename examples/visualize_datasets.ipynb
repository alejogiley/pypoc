{
 "cells": [
  {
   "cell_type": "code",
   "execution_count": 111,
   "metadata": {},
   "outputs": [],
   "source": [
    "# load MDAnalysis library \n",
    "# to deal with GRO/XTC files\n",
    "import MDAnalysis as mda\n",
    "\n",
    "# load nglview for visualization\n",
    "# of molecular systems\n",
    "import nglview as nv"
   ]
  },
  {
   "cell_type": "markdown",
   "metadata": {},
   "source": [
    "which are these systems"
   ]
  },
  {
   "cell_type": "code",
   "execution_count": 112,
   "metadata": {},
   "outputs": [],
   "source": [
    "# define path to MD traj files\n",
    "PATHD = \"../datasets/trajectories/\"\n",
    "FRAME = PATHD + \"CLCec1_anton2_restrained_15us.gro\" \n",
    "TRAJD = PATHD + \"CLCec1_anton2_restrained_15us.xtc\"\n",
    "\n",
    "# load just first frame for visualization\n",
    "# you could add TRAJD to see the MD trajectory,\n",
    "# but you should fit the trajectory right after\n",
    "u = mda.Universe(FRAME)"
   ]
  },
  {
   "cell_type": "markdown",
   "metadata": {},
   "source": [
    "number of atoms etc"
   ]
  },
  {
   "cell_type": "code",
   "execution_count": 113,
   "metadata": {},
   "outputs": [
    {
     "data": {
      "text/plain": [
       "31216"
      ]
     },
     "execution_count": 113,
     "metadata": {},
     "output_type": "execute_result"
    }
   ],
   "source": [
    "u.atoms.n_atoms\n",
    "u.select_atoms(\"protein\").n_atoms\n",
    "u.select_atoms(\"not protein\").n_atoms"
   ]
  },
  {
   "cell_type": "markdown",
   "metadata": {},
   "source": [
    "show now the goods"
   ]
  },
  {
   "cell_type": "code",
   "execution_count": 114,
   "metadata": {},
   "outputs": [
    {
     "name": "stderr",
     "output_type": "stream",
     "text": [
      "/anaconda3/lib/python3.7/site-packages/MDAnalysis/coordinates/PDB.py:902: UserWarning: Found no information for attr: 'altLocs' Using default value of ' '\n",
      "  \"\".format(attrname, default))\n",
      "/anaconda3/lib/python3.7/site-packages/MDAnalysis/coordinates/PDB.py:902: UserWarning: Found no information for attr: 'icodes' Using default value of ' '\n",
      "  \"\".format(attrname, default))\n",
      "/anaconda3/lib/python3.7/site-packages/MDAnalysis/coordinates/PDB.py:902: UserWarning: Found no information for attr: 'occupancies' Using default value of '1.0'\n",
      "  \"\".format(attrname, default))\n",
      "/anaconda3/lib/python3.7/site-packages/MDAnalysis/coordinates/PDB.py:902: UserWarning: Found no information for attr: 'tempfactors' Using default value of '0.0'\n",
      "  \"\".format(attrname, default))\n"
     ]
    },
    {
     "data": {
      "application/vnd.jupyter.widget-view+json": {
       "model_id": "2b3eaa716260496b930ef23f7698c9e4",
       "version_major": 2,
       "version_minor": 0
      },
      "text/plain": [
       "NGLWidget()"
      ]
     },
     "metadata": {},
     "output_type": "display_data"
    }
   ],
   "source": [
    "# select atoms\n",
    "protein = u.select_atoms(\"protein\")\n",
    "\n",
    "# nglview widget\n",
    "view = nv.show_mdanalysis(protein)\n",
    "\n",
    "# visualization options\n",
    "view.clear_representations()\n",
    "view.add_cartoon(selection=\"protein\", colorScheme=\"sstruc\")\n",
    "view._remote_call(\"setSize\", target=\"Widget\", args=[\"1000px\", \"500px\"])\n",
    "view.camera = 'orthographic'\n",
    "view"
   ]
  },
  {
   "cell_type": "code",
   "execution_count": 103,
   "metadata": {},
   "outputs": [
    {
     "data": {
      "application/vnd.jupyter.widget-view+json": {
       "model_id": "f290b299334542d19e58fd756fb06de6",
       "version_major": 2,
       "version_minor": 0
      },
      "text/plain": [
       "NGLWidget()"
      ]
     },
     "metadata": {},
     "output_type": "display_data"
    }
   ],
   "source": [
    "# select molecules: protein + membrane\n",
    "protmemb = u.select_atoms('resname POPC DLPC',\n",
    "                          'protein', updating=True)\n",
    "\n",
    "# Jupyter widget\n",
    "view = nv.show_mdanalysis(protmemb)\n",
    "\n",
    "# visualization options\n",
    "view.clear_representations()\n",
    "view.add_licorice(selection=\"not protein\")\n",
    "view.add_cartoon(selection=\"protein\", colorScheme=\"sstruc\")\n",
    "view._remote_call(\"setSize\", target=\"Widget\", args=[\"1000px\", \"600px\"])\n",
    "view.camera = 'orthographic'\n",
    "view.center(selection='protein')\n",
    "view"
   ]
  },
  {
   "cell_type": "code",
   "execution_count": null,
   "metadata": {},
   "outputs": [],
   "source": []
  }
 ],
 "metadata": {
  "kernelspec": {
   "display_name": "Python 3",
   "language": "python",
   "name": "python3"
  },
  "language_info": {
   "codemirror_mode": {
    "name": "ipython",
    "version": 3
   },
   "file_extension": ".py",
   "mimetype": "text/x-python",
   "name": "python",
   "nbconvert_exporter": "python",
   "pygments_lexer": "ipython3",
   "version": "3.7.1"
  }
 },
 "nbformat": 4,
 "nbformat_minor": 2
}
