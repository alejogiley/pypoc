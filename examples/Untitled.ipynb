{
 "cells": [
  {
   "cell_type": "code",
   "execution_count": 1,
   "metadata": {},
   "outputs": [],
   "source": [
    "# import libraries\n",
    "import sys, time\n",
    "\n",
    "sys.path.append('/Users/TiNoel/Documents/GitHub/pypoc')\n",
    "from pypoc import OrderAnalysis"
   ]
  },
  {
   "cell_type": "code",
   "execution_count": null,
   "metadata": {},
   "outputs": [],
   "source": [
    "# load trajectory\n",
    "u = mda.Universe(argv[0], argv[1])"
   ]
  },
  {
   "cell_type": "code",
   "execution_count": null,
   "metadata": {},
   "outputs": [],
   "source": [
    "# select lipids residues\n",
    "lipids = u.select_atoms(\"resname POPE POPG\")"
   ]
  },
  {
   "cell_type": "code",
   "execution_count": null,
   "metadata": {},
   "outputs": [],
   "source": [
    "# select acyl atoms\n",
    "\"\"\"---- POPC DLPC ALL ATOMS\n",
    "name  = [\"C2%i\"%i for j in (range(1,10), range(10,19)) for i in j]\n",
    "name += [\"C3%i\"%i for j in (range(1,10), range(10,17)) for i in j]\n",
    "\"\"\"\n",
    "name  = [\"C%iB\" %i for i in (range(1,5))]\n",
    "name += [\"C%iA\" %i for i in (1,3,4)]\n",
    "name += [\"D2A\"]"
   ]
  },
  {
   "cell_type": "code",
   "execution_count": null,
   "metadata": {},
   "outputs": [],
   "source": [
    "# create acyl dict\n",
    "acyl = lipids.select_atoms(\"name \" + \" \".join(name), updating=True)"
   ]
  },
  {
   "cell_type": "code",
   "execution_count": null,
   "metadata": {},
   "outputs": [],
   "source": [
    "# create bonds topology dict\n",
    "ad  = acyl.bonds.topDict"
   ]
  },
  {
   "cell_type": "code",
   "execution_count": null,
   "metadata": {},
   "outputs": [],
   "source": [
    "# select aliphatic \n",
    "# carbon bonds \n",
    "\"\"\"---- ALL ATOMS\n",
    "tg  = ad[('CL', 'CTL2')]\n",
    "tg += ad[('CTL2', 'CTL2')]\n",
    "tg += ad[('CTL2', 'CTL3')]\n",
    "tg += ad[('CTL2', 'CEL1')]\n",
    "tg += ad[('CEL1', 'CEL1')]\n",
    "\"\"\"\n",
    "tg  = ad[('C1', 'C1')]\n",
    "tg += ad[('C1', 'C3')]"
   ]
  },
  {
   "cell_type": "code",
   "execution_count": 7,
   "metadata": {},
   "outputs": [],
   "source": [
    "# ouput OpenDX file\n",
    "volpath = \"../examples/volume.dx\"\n",
    "# dict of resid, \n",
    "# bond, and angles\n",
    "data = {}"
   ]
  },
  {
   "cell_type": "code",
   "execution_count": null,
   "metadata": {},
   "outputs": [],
   "source": []
  }
 ],
 "metadata": {
  "kernelspec": {
   "display_name": "Python 3",
   "language": "python",
   "name": "python3"
  },
  "language_info": {
   "codemirror_mode": {
    "name": "ipython",
    "version": 3
   },
   "file_extension": ".py",
   "mimetype": "text/x-python",
   "name": "python",
   "nbconvert_exporter": "python",
   "pygments_lexer": "ipython3",
   "version": "3.7.1"
  }
 },
 "nbformat": 4,
 "nbformat_minor": 2
}
