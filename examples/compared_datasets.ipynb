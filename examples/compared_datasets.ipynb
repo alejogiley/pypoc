{
 "cells": [
  {
   "cell_type": "code",
   "execution_count": 15,
   "metadata": {},
   "outputs": [
    {
     "data": {
      "application/javascript": [
       "IPython.notebook.set_autosave_interval(60000)"
      ]
     },
     "metadata": {},
     "output_type": "display_data"
    },
    {
     "name": "stdout",
     "output_type": "stream",
     "text": [
      "Autosaving every 60 seconds\n"
     ]
    }
   ],
   "source": [
    "%autosave 60"
   ]
  },
  {
   "cell_type": "markdown",
   "metadata": {},
   "source": [
    "Kramer versus Kramer\n",
    "---------------------------\n",
    "\n",
    "Explain this"
   ]
  },
  {
   "cell_type": "code",
   "execution_count": 1,
   "metadata": {},
   "outputs": [],
   "source": [
    "# random\n",
    "from random import random\n",
    "\n",
    "# math functions\n",
    "from math import cos, sin, atan2\n",
    "from math import radians\n",
    "\n",
    "# load MDAnalysis library \n",
    "# to deal with GRO/XTC files\n",
    "import MDAnalysis as mda\n",
    "from MDAnalysis.analysis import align\n",
    "from MDAnalysis.analysis.dihedrals import Dihedral\n",
    "from MDAnalysis.analysis.dihedrals import Ramachandran\n",
    "\n",
    "# arrays\n",
    "import numpy as np\n",
    "\n",
    "# machine learning\n",
    "from sklearn.decomposition import PCA, KernelPCA\n",
    "from sklearn.preprocessing import StandardScaler\n",
    "\n",
    "# plotting\n",
    "import matplotlib.pyplot as plt\n",
    "from matplotlib.colors import LogNorm"
   ]
  },
  {
   "cell_type": "markdown",
   "metadata": {},
   "source": [
    "Molecular Dynamics in *Anton 2*\n",
    "--------------------------------------\n",
    "\n",
    "Load trajectory files. Describe them. Form of the restrain!"
   ]
  },
  {
   "cell_type": "code",
   "execution_count": 2,
   "metadata": {},
   "outputs": [
    {
     "ename": "OSError",
     "evalue": "File does not exist: b'../datasets/trajectories/CLCec1_anton2_restrained_15us.xtc'",
     "output_type": "error",
     "traceback": [
      "\u001b[0;31m---------------------------------------------------------------------------\u001b[0m",
      "\u001b[0;31mOSError\u001b[0m                                   Traceback (most recent call last)",
      "\u001b[0;32m<ipython-input-2-5277017cc8d4>\u001b[0m in \u001b[0;36m<module>\u001b[0;34m\u001b[0m\n\u001b[1;32m      6\u001b[0m \u001b[0;34m\u001b[0m\u001b[0m\n\u001b[1;32m      7\u001b[0m \u001b[0;31m# load traj files\u001b[0m\u001b[0;34m\u001b[0m\u001b[0;34m\u001b[0m\u001b[0;34m\u001b[0m\u001b[0m\n\u001b[0;32m----> 8\u001b[0;31m \u001b[0mrest\u001b[0m \u001b[0;34m=\u001b[0m \u001b[0mmda\u001b[0m\u001b[0;34m.\u001b[0m\u001b[0mUniverse\u001b[0m\u001b[0;34m(\u001b[0m\u001b[0mFRAME\u001b[0m\u001b[0;34m,\u001b[0m\u001b[0mTRAJ1\u001b[0m\u001b[0;34m)\u001b[0m\u001b[0;34m\u001b[0m\u001b[0;34m\u001b[0m\u001b[0m\n\u001b[0m\u001b[1;32m      9\u001b[0m \u001b[0munrs\u001b[0m \u001b[0;34m=\u001b[0m \u001b[0mmda\u001b[0m\u001b[0;34m.\u001b[0m\u001b[0mUniverse\u001b[0m\u001b[0;34m(\u001b[0m\u001b[0mFRAME\u001b[0m\u001b[0;34m,\u001b[0m\u001b[0mTRAJ2\u001b[0m\u001b[0;34m)\u001b[0m\u001b[0;34m\u001b[0m\u001b[0;34m\u001b[0m\u001b[0m\n",
      "\u001b[0;32m/anaconda3/lib/python3.7/site-packages/MDAnalysis/core/universe.py\u001b[0m in \u001b[0;36m__init__\u001b[0;34m(self, *args, **kwargs)\u001b[0m\n\u001b[1;32m    333\u001b[0m                 \u001b[0mcoordinatefile\u001b[0m \u001b[0;34m=\u001b[0m \u001b[0;32mNone\u001b[0m\u001b[0;34m\u001b[0m\u001b[0;34m\u001b[0m\u001b[0m\n\u001b[1;32m    334\u001b[0m \u001b[0;34m\u001b[0m\u001b[0m\n\u001b[0;32m--> 335\u001b[0;31m             \u001b[0mself\u001b[0m\u001b[0;34m.\u001b[0m\u001b[0mload_new\u001b[0m\u001b[0;34m(\u001b[0m\u001b[0mcoordinatefile\u001b[0m\u001b[0;34m,\u001b[0m \u001b[0;34m**\u001b[0m\u001b[0mkwargs\u001b[0m\u001b[0;34m)\u001b[0m\u001b[0;34m\u001b[0m\u001b[0;34m\u001b[0m\u001b[0m\n\u001b[0m\u001b[1;32m    336\u001b[0m             \u001b[0;31m# parse transformations\u001b[0m\u001b[0;34m\u001b[0m\u001b[0;34m\u001b[0m\u001b[0;34m\u001b[0m\u001b[0m\n\u001b[1;32m    337\u001b[0m             \u001b[0mtrans_arg\u001b[0m \u001b[0;34m=\u001b[0m \u001b[0mkwargs\u001b[0m\u001b[0;34m.\u001b[0m\u001b[0mpop\u001b[0m\u001b[0;34m(\u001b[0m\u001b[0;34m'transformations'\u001b[0m\u001b[0;34m,\u001b[0m \u001b[0;32mNone\u001b[0m\u001b[0;34m)\u001b[0m\u001b[0;34m\u001b[0m\u001b[0;34m\u001b[0m\u001b[0m\n",
      "\u001b[0;32m/anaconda3/lib/python3.7/site-packages/MDAnalysis/core/universe.py\u001b[0m in \u001b[0;36mload_new\u001b[0;34m(self, filename, format, in_memory, **kwargs)\u001b[0m\n\u001b[1;32m    600\u001b[0m         \u001b[0mkwargs\u001b[0m\u001b[0;34m[\u001b[0m\u001b[0;34m'n_atoms'\u001b[0m\u001b[0;34m]\u001b[0m \u001b[0;34m=\u001b[0m \u001b[0mself\u001b[0m\u001b[0;34m.\u001b[0m\u001b[0matoms\u001b[0m\u001b[0;34m.\u001b[0m\u001b[0mn_atoms\u001b[0m\u001b[0;34m\u001b[0m\u001b[0;34m\u001b[0m\u001b[0m\n\u001b[1;32m    601\u001b[0m \u001b[0;34m\u001b[0m\u001b[0m\n\u001b[0;32m--> 602\u001b[0;31m         \u001b[0mself\u001b[0m\u001b[0;34m.\u001b[0m\u001b[0mtrajectory\u001b[0m \u001b[0;34m=\u001b[0m \u001b[0mreader\u001b[0m\u001b[0;34m(\u001b[0m\u001b[0mfilename\u001b[0m\u001b[0;34m,\u001b[0m \u001b[0;34m**\u001b[0m\u001b[0mkwargs\u001b[0m\u001b[0;34m)\u001b[0m\u001b[0;34m\u001b[0m\u001b[0;34m\u001b[0m\u001b[0m\n\u001b[0m\u001b[1;32m    603\u001b[0m         \u001b[0;32mif\u001b[0m \u001b[0mself\u001b[0m\u001b[0;34m.\u001b[0m\u001b[0mtrajectory\u001b[0m\u001b[0;34m.\u001b[0m\u001b[0mn_atoms\u001b[0m \u001b[0;34m!=\u001b[0m \u001b[0mlen\u001b[0m\u001b[0;34m(\u001b[0m\u001b[0mself\u001b[0m\u001b[0;34m.\u001b[0m\u001b[0matoms\u001b[0m\u001b[0;34m)\u001b[0m\u001b[0;34m:\u001b[0m\u001b[0;34m\u001b[0m\u001b[0;34m\u001b[0m\u001b[0m\n\u001b[1;32m    604\u001b[0m             raise ValueError(\"The topology and {form} trajectory files don't\"\n",
      "\u001b[0;32m/anaconda3/lib/python3.7/site-packages/MDAnalysis/coordinates/XDR.py\u001b[0m in \u001b[0;36m__init__\u001b[0;34m(self, filename, convert_units, sub, refresh_offsets, **kwargs)\u001b[0m\n\u001b[1;32m    133\u001b[0m                                             \u001b[0mconvert_units\u001b[0m\u001b[0;34m=\u001b[0m\u001b[0mconvert_units\u001b[0m\u001b[0;34m,\u001b[0m\u001b[0;34m\u001b[0m\u001b[0;34m\u001b[0m\u001b[0m\n\u001b[1;32m    134\u001b[0m                                             **kwargs)\n\u001b[0;32m--> 135\u001b[0;31m         \u001b[0mself\u001b[0m\u001b[0;34m.\u001b[0m\u001b[0m_xdr\u001b[0m \u001b[0;34m=\u001b[0m \u001b[0mself\u001b[0m\u001b[0;34m.\u001b[0m\u001b[0m_file\u001b[0m\u001b[0;34m(\u001b[0m\u001b[0mself\u001b[0m\u001b[0;34m.\u001b[0m\u001b[0mfilename\u001b[0m\u001b[0;34m)\u001b[0m\u001b[0;34m\u001b[0m\u001b[0;34m\u001b[0m\u001b[0m\n\u001b[0m\u001b[1;32m    136\u001b[0m \u001b[0;34m\u001b[0m\u001b[0m\n\u001b[1;32m    137\u001b[0m         \u001b[0mself\u001b[0m\u001b[0;34m.\u001b[0m\u001b[0m_sub\u001b[0m \u001b[0;34m=\u001b[0m \u001b[0msub\u001b[0m\u001b[0;34m\u001b[0m\u001b[0;34m\u001b[0m\u001b[0m\n",
      "\u001b[0;32mMDAnalysis/lib/formats/libmdaxdr.pyx\u001b[0m in \u001b[0;36mMDAnalysis.lib.formats.libmdaxdr._XDRFile.__cinit__\u001b[0;34m()\u001b[0m\n",
      "\u001b[0;32mMDAnalysis/lib/formats/libmdaxdr.pyx\u001b[0m in \u001b[0;36mMDAnalysis.lib.formats.libmdaxdr._XDRFile.open\u001b[0;34m()\u001b[0m\n",
      "\u001b[0;31mOSError\u001b[0m: File does not exist: b'../datasets/trajectories/CLCec1_anton2_restrained_15us.xtc'"
     ]
    }
   ],
   "source": [
    "# define path to structure files\n",
    "PATHD = \"../datasets/trajectories/\"\n",
    "FRAME = PATHD + \"CLCec1_anton2_restrained_15us.gro\"\n",
    "TRAJ1 = PATHD + \"CLCec1_anton2_restrained_15us.xtc\"\n",
    "TRAJ2 = PATHD + \"CLCec1_anton2_unrestrain_15us.xtc\"\n",
    "\n",
    "# load traj files\n",
    "rest = mda.Universe(FRAME,TRAJ1)\n",
    "unrs = mda.Universe(FRAME,TRAJ2)"
   ]
  },
  {
   "cell_type": "markdown",
   "metadata": {},
   "source": [
    " I will avoid fitting (rot+trans) for now"
   ]
  },
  {
   "cell_type": "code",
   "execution_count": null,
   "metadata": {},
   "outputs": [],
   "source": [
    "# fitting\n",
    "#ref = mda.Universe(FRAME)\n",
    "#fit = align.AlignTraj(trj, ref, select=\"protein and name CA\", in_memory=True)\n",
    "#fit.run()"
   ]
  },
  {
   "cell_type": "markdown",
   "metadata": {},
   "source": [
    "Ramachandran analysis\n",
    "----------------------------\n",
    "\n",
    "Let's compare both trajectories using a simple dihedral analysis, no fitting requiered"
   ]
  },
  {
   "cell_type": "code",
   "execution_count": null,
   "metadata": {},
   "outputs": [],
   "source": [
    "# select protein residues\n",
    "restrained = rest.select_atoms(\"protein and resid 2-429\")\n",
    "unrestrain = unrs.select_atoms(\"protein and resid 2-429\")\n",
    "\n",
    "# quick calculation of phi and psi angles\n",
    "R = Ramachandran(restrained).run()\n",
    "U = Ramachandran(unrestrain).run()"
   ]
  },
  {
   "cell_type": "markdown",
   "metadata": {},
   "source": [
    "plotting. \n",
    "\n",
    "1) get a reference using RESTful\n",
    "\n",
    "2) use a better plotting program"
   ]
  },
  {
   "cell_type": "code",
   "execution_count": null,
   "metadata": {},
   "outputs": [],
   "source": [
    "# create a figure and three subplots\n",
    "fig, axes = plt.subplots(1, 3, sharey=True, sharex=True, figsize=(18,6))\n",
    "\n",
    "# axes decoration\n",
    "for ax in axes:\n",
    "    ax.axis([-180,180,-180,180])\n",
    "    ax.axhline(0, color='k', lw=1)\n",
    "    ax.axvline(0, color='k', lw=1)\n",
    "    ax.set(xticks=range(-180, 181, 60), yticks=range(-180, 181, 60),\n",
    "           xlabel=r\"$\\phi$ (deg)\", ylabel=r\"$\\psi$ (deg)\")\n",
    "\n",
    "# set titles    \n",
    "axes[0].title.set_text('Restrained')\n",
    "axes[1].title.set_text('Unrestrained')\n",
    "axes[2].title.set_text('Reference')\n",
    "    \n",
    "# reshape angle arrays\n",
    "r = R.angles.reshape(np.prod(R.angles.shape[:2]), 2)\n",
    "u = U.angles.reshape(np.prod(U.angles.shape[:2]), 2)\n",
    "\n",
    "# plot backbone dihedral maps for all frames\n",
    "axes[0].hist2d(r[:,0], r[:,1], bins=100, range=[[-180,180],[-180,180]], norm=LogNorm(), cmap=plt.cm.Blues)\n",
    "axes[1].hist2d(u[:,0], u[:,1], bins=100, range=[[-180,180],[-180,180]], norm=LogNorm(), cmap=plt.cm.Blues)\n",
    "\n",
    "# plot reference map which shows allowed and marginally allowed regions\n",
    "U.plot(ax=axes[2], color='k', marker=\".\", alpha=0.0, ref=True)\n",
    "\n",
    "plt.show()"
   ]
  },
  {
   "cell_type": "markdown",
   "metadata": {},
   "source": [
    "<center>the <i>Unrestrained</i> is more flexible, as expected, but also more similar to the <i>Reference</i> map.\n",
    "At least for me, in a qualitative way.</center>"
   ]
  },
  {
   "cell_type": "markdown",
   "metadata": {},
   "source": [
    "dPCA+\n",
    "--------\n",
    "\n",
    "Let's compare the 2 trajectories! Principal Component Analysis of dihedral angles\n",
    "Implementation of the dPCA+ method from references:\n",
    "     \n",
    "J Comput Chem. 2009; 30(3):479-92. doi: 10.1002/jcc.21076.\n",
    "\n",
    "J Chem Phys. 2017; 147(24):244101. doi: 10.1063/1.4998259."
   ]
  },
  {
   "cell_type": "code",
   "execution_count": null,
   "metadata": {},
   "outputs": [],
   "source": [
    "# reshape angle arrays\n",
    "r = R.angles.reshape(np.prod(R.angles.shape[:2]), 2)\n",
    "u = U.angles.reshape(np.prod(U.angles.shape[:2]), 2)\n",
    "\n",
    "# convert to radians\n",
    "ress = np.deg2rad(r)\n",
    "unre = np.deg2rad(u)\n",
    "\n",
    "# combine datasets\n",
    "data = np.vstack((ress,unre))"
   ]
  },
  {
   "cell_type": "code",
   "execution_count": null,
   "metadata": {},
   "outputs": [],
   "source": [
    "from __classes import dPCAplus"
   ]
  },
  {
   "cell_type": "code",
   "execution_count": null,
   "metadata": {},
   "outputs": [],
   "source": [
    "# create object\n",
    "pippo = dPCAplus(data, 600)\n",
    "\n",
    "# save dataset\n",
    "pippo.save(\"../datasets/MD_datasets.csv\")\n",
    "\n",
    "# run pca\n",
    "pca, vec = pippo.dopca()"
   ]
  },
  {
   "cell_type": "markdown",
   "metadata": {},
   "source": [
    "Plot"
   ]
  },
  {
   "cell_type": "code",
   "execution_count": 3,
   "metadata": {},
   "outputs": [
    {
     "ename": "NameError",
     "evalue": "name 'pca' is not defined",
     "output_type": "error",
     "traceback": [
      "\u001b[0;31m---------------------------------------------------------------------------\u001b[0m",
      "\u001b[0;31mNameError\u001b[0m                                 Traceback (most recent call last)",
      "\u001b[0;32m<ipython-input-3-bce44bcb291e>\u001b[0m in \u001b[0;36m<module>\u001b[0;34m\u001b[0m\n\u001b[1;32m      4\u001b[0m \u001b[0max1\u001b[0m\u001b[0;34m.\u001b[0m\u001b[0mtitle\u001b[0m\u001b[0;34m.\u001b[0m\u001b[0mset_text\u001b[0m\u001b[0;34m(\u001b[0m\u001b[0;34m'Percentage of variance'\u001b[0m\u001b[0;34m)\u001b[0m\u001b[0;34m\u001b[0m\u001b[0;34m\u001b[0m\u001b[0m\n\u001b[1;32m      5\u001b[0m \u001b[0;31m#ax1.set(yticks=range(0, 21, 5), xlabel=r\"$\\phi$ (deg)\", ylabel=r\"$\\psi$ (deg)\")\u001b[0m\u001b[0;34m\u001b[0m\u001b[0;34m\u001b[0m\u001b[0;34m\u001b[0m\u001b[0m\n\u001b[0;32m----> 6\u001b[0;31m \u001b[0max1\u001b[0m\u001b[0;34m.\u001b[0m\u001b[0mplot\u001b[0m\u001b[0;34m(\u001b[0m\u001b[0mrange\u001b[0m\u001b[0;34m(\u001b[0m\u001b[0;36m1\u001b[0m\u001b[0;34m,\u001b[0m\u001b[0;36m11\u001b[0m\u001b[0;34m)\u001b[0m\u001b[0;34m,\u001b[0m \u001b[0mpca\u001b[0m\u001b[0;34m.\u001b[0m\u001b[0mexplained_variance_ratio_\u001b[0m\u001b[0;34m[\u001b[0m\u001b[0;34m:\u001b[0m\u001b[0;36m10\u001b[0m\u001b[0;34m]\u001b[0m\u001b[0;34m*\u001b[0m\u001b[0;36m100\u001b[0m\u001b[0;34m,\u001b[0m \u001b[0mmarker\u001b[0m\u001b[0;34m=\u001b[0m\u001b[0;34m'.'\u001b[0m\u001b[0;34m,\u001b[0m \u001b[0mlinestyle\u001b[0m\u001b[0;34m=\u001b[0m\u001b[0;34m'dashed'\u001b[0m\u001b[0;34m)\u001b[0m\u001b[0;34m\u001b[0m\u001b[0;34m\u001b[0m\u001b[0m\n\u001b[0m\u001b[1;32m      7\u001b[0m \u001b[0;34m\u001b[0m\u001b[0m\n\u001b[1;32m      8\u001b[0m \u001b[0;31m#ax2.axis([-15,15,-8,8])\u001b[0m\u001b[0;34m\u001b[0m\u001b[0;34m\u001b[0m\u001b[0;34m\u001b[0m\u001b[0m\n",
      "\u001b[0;31mNameError\u001b[0m: name 'pca' is not defined"
     ]
    },
    {
     "name": "stderr",
     "output_type": "stream",
     "text": [
      "Exception ignored in: <function ReaderBase.__del__ at 0x111011730>\n",
      "Traceback (most recent call last):\n",
      "  File \"/anaconda3/lib/python3.7/site-packages/MDAnalysis/coordinates/base.py\", line 2105, in __del__\n",
      "    self.close()\n",
      "  File \"/anaconda3/lib/python3.7/site-packages/MDAnalysis/coordinates/XDR.py\", line 172, in close\n",
      "    self._xdr.close()\n",
      "AttributeError: 'XTCReader' object has no attribute '_xdr'\n"
     ]
    },
    {
     "data": {
      "image/png": "[encoded data removed]",
      "text/plain": [
       "<Figure size 1296x432 with 2 Axes>"
      ]
     },
     "metadata": {
      "needs_background": "light"
     },
     "output_type": "display_data"
    }
   ],
   "source": [
    "fig, (ax1, ax2) = plt.subplots(1, 2, figsize=(18,6))\n",
    "\n",
    "ax1.axis([0.9,10.5,0,90])\n",
    "ax1.title.set_text('Percentage of variance')\n",
    "#ax1.set(yticks=range(0, 21, 5), xlabel=r\"$\\phi$ (deg)\", ylabel=r\"$\\psi$ (deg)\")\n",
    "ax1.plot(range(1,11), pca.explained_variance_ratio_[:10]*100, marker='.', linestyle='dashed')\n",
    "\n",
    "#ax2.axis([-15,15,-8,8])\n",
    "ax2.title.set_text('PCA')\n",
    "#ax2.set(xticks=range(-12, 13, 4), xlabel=r\"$\\phi$ (deg)\", ylabel=r\"$\\psi$ (deg)\")\n",
    "ax2.scatter(vec[:300,0], vec[:300,1], color='blue',  alpha=.8, label='traj1')\n",
    "ax2.scatter(vec[300:,0], vec[300:,1], color='green', alpha=.8, label='traj2')"
   ]
  },
  {
   "cell_type": "markdown",
   "metadata": {},
   "source": [
    "Analysis PCA / Cross validation score"
   ]
  },
  {
   "cell_type": "code",
   "execution_count": null,
   "metadata": {},
   "outputs": [],
   "source": []
  }
 ],
 "metadata": {
  "kernelspec": {
   "display_name": "Python 3",
   "language": "python",
   "name": "python3"
  },
  "language_info": {
   "codemirror_mode": {
    "name": "ipython",
    "version": 3
   },
   "file_extension": ".py",
   "mimetype": "text/x-python",
   "name": "python",
   "nbconvert_exporter": "python",
   "pygments_lexer": "ipython3",
   "version": "3.7.1"
  }
 },
 "nbformat": 4,
 "nbformat_minor": 2
}
