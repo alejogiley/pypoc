{
 "cells": [
  {
   "cell_type": "code",
   "execution_count": 1,
   "metadata": {},
   "outputs": [
    {
     "data": {
      "application/javascript": [
       "IPython.notebook.set_autosave_interval(60000)"
      ]
     },
     "metadata": {},
     "output_type": "display_data"
    },
    {
     "name": "stdout",
     "output_type": "stream",
     "text": [
      "Autosaving every 60 seconds\n"
     ]
    }
   ],
   "source": [
    "%autosave 60"
   ]
  },
  {
   "cell_type": "code",
   "execution_count": 114,
   "metadata": {},
   "outputs": [],
   "source": [
    "# manage JSON format \n",
    "# and data analysis\n",
    "import json as js\n",
    "import numpy as np\n",
    "import pandas as pd\n",
    "\n",
    "# math & plotting\n",
    "from scipy.stats import gaussian_kde\n",
    "import matplotlib.pyplot as plt\n",
    "\n",
    "# manage XML objects\n",
    "import xml.etree.ElementTree as ET\n",
    "\n",
    "# libraries for \n",
    "# handling URLs\n",
    "import requests\n",
    "from urllib.error import URLError\n",
    "from urllib.request import Request, urlopen, urlretrieve\n",
    "\n",
    "# import functions \n",
    "from __functions import *\n",
    "\n",
    "# process-based “threading” interface\n",
    "from multiprocessing import Pool, Process"
   ]
  },
  {
   "cell_type": "markdown",
   "metadata": {},
   "source": [
    "Identifiers\n",
    "------\n",
    "Execute an advanced search query to [RCSB-PDB](https://www.rcsb.org/pages/webservices/rest-search). \n",
    "\n",
    "```xml\n",
    "query Type = Macromolecule name\n",
    "patter = exchange transporter\n",
    "```"
   ]
  },
  {
   "cell_type": "code",
   "execution_count": 3,
   "metadata": {},
   "outputs": [
    {
     "name": "stdout",
     "output_type": "stream",
     "text": [
      "Found 44 PDB entries matching query.\n",
      "Matches: \n",
      "1KPK:1,1KPL:1,1OTS:1,1OTT:1,1OTU:1,2EXW:1,2EXY:1,2EZ0:1,2FEC:1,2FED:1,2FEE:1,2H2P:1,2H2S:1,2HLF:1,2HT2:1,2HT3:1,2HT4:1,2HTK:1,2HTL:1,2J9L:1,2JA3:1,2R9H:1,3DET:1,3EJY:1,3EJZ:1,3NMO:1,3Q17:1,4ENE:1,4FG6:1,4FTP:1,4KJP:1,4KJQ:1,4KJW:1,4KK5:1,4KK6:1,4KK8:1,4KK9:1,4KKA:1,4KKB:1,4KKC:1,4KKL:1,4LOU:1,4MQX:1,5HD8:1\n"
     ]
    }
   ],
   "source": [
    "# set URL\n",
    "api_url = 'https://www.rcsb.org/pdb/rest/search'\n",
    "\n",
    "# XML Query\n",
    "query_text = \"\"\"\n",
    "<?xml version=\"1.0\" encoding=\"UTF-8\"?>\n",
    "<orgPdbQuery>\n",
    "<queryType>org.pdb.query.simple.MoleculeNameQuery</queryType>\n",
    "<description>Molecule Name Search : Molecule Name=H(+)/Cl(-) exchange transporter</description>\n",
    "<macromoleculeName>\"exchange transporter\"</macromoleculeName>\n",
    "</orgPdbQuery>\n",
    "\"\"\"\n",
    "\n",
    "# header for server\n",
    "header = {'Content-Type': 'application/x-www-form-urlencoded'}\n",
    "\n",
    "# POST a XML representation of an advanced search\n",
    "response = requests.post(api_url, data=query_text, headers=header)\n",
    "\n",
    "# check & print response\n",
    "if response.status_code == 200:\n",
    "    pdb_list = response.text.split()\n",
    "    print(\"Found %d PDB entries matching query.\" % len(pdb_list))\n",
    "    print(\"Matches: \\n%s\" % \",\".join(pdb_list))\n",
    "else:\n",
    "    print(\"Failed to retrieve results\")"
   ]
  },
  {
   "cell_type": "code",
   "execution_count": 4,
   "metadata": {},
   "outputs": [],
   "source": [
    "# lets clean the subfixes in PDB list\n",
    "pdb_list = [pdb.split(':')[0] for pdb in pdb_list]"
   ]
  },
  {
   "cell_type": "markdown",
   "metadata": {},
   "source": [
    "Molecules in the entry\n",
    "------\n",
    "Execute an advanced search query to [PDBe](http://www.ebi.ac.uk/pdbe) using `REST` calls based on PDB entry data. Calls to [PDBe-API-URL/molecules](http://www.ebi.ac.uk/pdbe/api/pdb/entry/molecules/) provides details of molecules modelled in the entry, such as entity id, description, type, number of copies in the entry, source organism(s), etc. Details at PDBe `REST` API [doc](`http://www.ebi.ac.uk/pdbe/api/doc/`) page."
   ]
  },
  {
   "cell_type": "code",
   "execution_count": 5,
   "metadata": {},
   "outputs": [],
   "source": [
    "# dict with \"PDB ID\" as keys, e.g.:\n",
    "# 6d7v: { molecule: Transient receptor potential cation channel subfamily V member 6, \n",
    "#         gene_name: Trpv6,\n",
    "#         assembly: homo-tetramer,\n",
    "#         method: x-ray, \n",
    "#         resolution: 4.3, \n",
    "#         deposition_date: 2003-03-22\n",
    "#       } \n",
    "dataset = {}"
   ]
  },
  {
   "cell_type": "code",
   "execution_count": 6,
   "metadata": {},
   "outputs": [],
   "source": [
    "# set URL\n",
    "api_url = \"\"\"http://www.ebi.ac.uk/pdbe/api/pdb/entry/molecules/\"\"\"\n",
    "\n",
    "# query list of PDB IDs\n",
    "query_text = \",\".join(pdb_list)\n",
    "\n",
    "# POST a XML representation of an advanced search\n",
    "description = requests.post(api_url, data=query_text)"
   ]
  },
  {
   "cell_type": "code",
   "execution_count": 7,
   "metadata": {},
   "outputs": [
    {
     "name": "stdout",
     "output_type": "stream",
     "text": [
      "Matches: \n",
      "44 of 44\n",
      "\n",
      "Summary:\n",
      "4kkl: JW5012 4kkb: JW5012 4kkc: JW5012 4kka: JW5012 2exw: JW5012 4kk6: JW5012 2r9h: JW5012 2ht4: JW5012 2ht2: JW5012 2ht3: JW5012 2exy: JW5012 2hlf: JW5012 3q17: sll0855 2h2p: JW5012 2h2s: JW5012 1ott: JW5012 1otu: JW5012 1ots: JW5012 2fec: JW5012 4ftp: JW5012 2fee: JW5012 2fed: JW5012 2htl: JW5012 2htk: JW5012 3det: JW5012 2ja3: CLCK2 4lou: JW5012 2j9l: CLCK2 4kk8: JW5012 4kk9: JW5012 4kjq: JW5012 4kjp: JW5012 4mqx: JW5012 4kk5: JW5012 2ez0: JW5012 4kjw: JW5012 1kpl: STM0203 3ejz: JW5012 3ejy: JW5012 4fg6: JW5012 1kpk: JW5012 4ene: JW5012 3nmo: JW5012 5hd8: JW5012 "
     ]
    }
   ],
   "source": [
    "# process response\n",
    "if description.status_code == 200:\n",
    "    # create an JSON object from response\n",
    "    pdb_molecules = js.loads(description.content.decode('utf-8'))\n",
    "    \n",
    "    # number of PDB matches\n",
    "    print(\"Matches: \\n%s of %s\\n\" % (len(pdb_molecules), len(pdb_list)))\n",
    "    print(\"Summary:\")\n",
    "    \n",
    "    # read summary sections\n",
    "    for k, v in pdb_molecules.items():\n",
    "        # macromolecule gene & molecule name\n",
    "        macromolecules_gene_names = find_json(v, \"gene_name\")\n",
    "        macromolecules_mole_names = find_json(v, \"molecule_name\")\n",
    "        \n",
    "        # fill dataset\n",
    "        if len(macromolecules_mole_names) > 0:\n",
    "            dataset['{0}'.format(k.upper())] = {'molecule': \n",
    "                                                macromolecules_mole_names[0]}\n",
    "        if len(macromolecules_gene_names) > 0:\n",
    "            dataset['{0}'.format(k.upper())].update({'gene_name': \n",
    "                                                     macromolecules_gene_names[0]})\n",
    "        \n",
    "        # example results\n",
    "        try:\n",
    "            print('{0}: {1}'.format(k, macromolecules_gene_names[0]), end=\" \")\n",
    "        except IndexError:\n",
    "            print('{0}: {1}'.format(k, \"None\"), end=\" \")\n",
    "    \n",
    "else:\n",
    "    print(\"Failed to retrieve results\")"
   ]
  },
  {
   "cell_type": "markdown",
   "metadata": {},
   "source": [
    "Summary\n",
    "------\n",
    "Calls to [PDBe-API-URL/summary](http://www.ebi.ac.uk/pdbe/api/pdb/entry/summary/) provide a summary of properties of a PDB entry, such as the title of the entry, experimental method, assemblies, etc. Details at PDBe `REST` API [doc](`http://www.ebi.ac.uk/pdbe/api/doc/`) page."
   ]
  },
  {
   "cell_type": "code",
   "execution_count": 20,
   "metadata": {},
   "outputs": [],
   "source": [
    "# set URL\n",
    "api_url = \"\"\"http://www.ebi.ac.uk/pdbe/api/pdb/entry/summary/\"\"\"\n",
    "\n",
    "# query list of PDB IDs\n",
    "query_text = \",\".join(pdb_list)\n",
    "\n",
    "# POST a XML representation of an advanced search\n",
    "description = requests.post(api_url, data=query_text)"
   ]
  },
  {
   "cell_type": "code",
   "execution_count": 23,
   "metadata": {},
   "outputs": [
    {
     "name": "stdout",
     "output_type": "stream",
     "text": [
      "Matches: \n",
      "44 of 44\n",
      "\n",
      "Summary:\n",
      "4kkl: x-ray 4kkb: x-ray 4kkc: x-ray 4kka: x-ray 2exw: x-ray 4kk6: x-ray 2r9h: x-ray 2ht4: x-ray 2ht2: x-ray 2ht3: x-ray 2exy: x-ray 2hlf: x-ray 3q17: x-ray 2h2p: x-ray 2h2s: x-ray 1ott: x-ray 1otu: x-ray 1ots: x-ray 2fec: x-ray 4ftp: x-ray 2fee: x-ray 2fed: x-ray 2htl: x-ray 2htk: x-ray 3det: x-ray 2ja3: x-ray 4lou: x-ray 2j9l: x-ray 4kk8: x-ray 4kk9: x-ray 4kjq: x-ray 4kjp: x-ray 4mqx: x-ray 4kk5: x-ray 2ez0: x-ray 4kjw: x-ray 1kpl: x-ray 3ejz: x-ray 1kpk: x-ray 4fg6: x-ray 3ejy: x-ray 4ene: x-ray 3nmo: x-ray 5hd8: x-ray "
     ]
    }
   ],
   "source": [
    "# process response\n",
    "if description.status_code == 200:\n",
    "    # create an JSON object from response\n",
    "    pdb_summary = js.loads(description.content.decode('utf-8'))\n",
    "    \n",
    "    # number of PDB matches\n",
    "    print(\"Matches: \\n%s of %s\\n\" % (len(pdb_summary), len(pdb_list)))\n",
    "    print(\"Summary:\")\n",
    "    \n",
    "    # read summary sections\n",
    "    for k, v in pdb_summary.items():\n",
    "        ## depostion date / assembly composition / multimeric state\n",
    "        structure_deposition_date = find_json(v, \"deposition_date\")\n",
    "        structure_assemblies_form = find_json(v, \"assemblies\")[0]['form']\n",
    "        structure_assemblies_name = find_json(v, \"assemblies\")[0]['name']\n",
    "        multimeric_assembly_state = (structure_assemblies_form + \"-\" +\n",
    "                                     structure_assemblies_name)\n",
    "        ## experimental method info\n",
    "        experimental_method_class = find_json(v, \"experimental_method_class\")\n",
    "        \n",
    "        ## test experimental method class > \n",
    "        ## should be one of these [x-ray, em, nmr]\n",
    "        if experimental_method_class[0] not in ['x-ray', 'em', 'nmr']:\n",
    "            print('unusual experimental method class:\\n%s' \n",
    "                  % experimental_method_class[0])\n",
    "        \n",
    "        # fill dataset\n",
    "        dataset['{0}'.format(k.upper())].update({'assembly': \n",
    "                                                 multimeric_assembly_state})\n",
    "        dataset['{0}'.format(k.upper())].update({'method': \n",
    "                                                 experimental_method_class[0]})\n",
    "        dataset['{0}'.format(k.upper())].update({'deposition_date': \n",
    "                                                 \"\".join(structure_deposition_date)})\n",
    "        \n",
    "        # example results\n",
    "        print('{0}: {1}'.format(k, experimental_method_class[0]), end =\" \")\n",
    "    \n",
    "else:\n",
    "    print(\"Failed to retrieve results\")"
   ]
  },
  {
   "cell_type": "markdown",
   "metadata": {},
   "source": [
    "Experiments\n",
    "----\n",
    "Execute an advanced search query to [PDBe](http://www.ebi.ac.uk/pdbe) using `REST` calls based on PDB entry data. Calls to [PDBe-API-URL/experiment](http://www.ebi.ac.uk/pdbe/api/pdb/entry/experiment/) This call provides details of experiment(s) carried out in determining the structure of the entry. Each experiment is described in a separate dictionary. For **X-ray diffraction**, the description consists of resolution, spacegroup, cell dimensions, R and Rfree, refinement program, etc. For **NMR**, details of spectrometer, sample, spectra, refinement, etc. are included. For **EM**, details of specimen, imaging, acquisition, reconstruction, fitting etc. are included.  Details at PDBe `REST` API [doc](`http://www.ebi.ac.uk/pdbe/api/doc/`) page."
   ]
  },
  {
   "cell_type": "code",
   "execution_count": 24,
   "metadata": {},
   "outputs": [],
   "source": [
    "# set URL\n",
    "api_url = \"\"\"http://www.ebi.ac.uk/pdbe/api/pdb/entry/experiment/\"\"\"\n",
    "\n",
    "# query list of PDB IDs\n",
    "query_text = \",\".join(pdb_list)\n",
    "\n",
    "# POST a XML representation of an advanced search\n",
    "description = requests.post(api_url, data=query_text)"
   ]
  },
  {
   "cell_type": "code",
   "execution_count": 27,
   "metadata": {},
   "outputs": [
    {
     "name": "stdout",
     "output_type": "stream",
     "text": [
      "Matches: \n",
      "44 of 44\n",
      "\n",
      "4kkl: 2.85 4kkb: 3.021 4kkc: 3.18 4kka: 3 2exw: 3.2 4kk6: 3.183 2r9h: 3.1 2ht4: 3.2 2ht2: 3.32 2ht3: 3.3 2exy: 3.1 2hlf: 3.3 3q17: 3.6 2h2p: 3.1 2h2s: 3.1 1ott: 3 1otu: 3.3 1ots: 2.51 2fec: 3.967 4ftp: 3.21 2fee: 3.2 2fed: 3.317 2htl: 3.4 2htk: 3.41 3det: 2.8 2ja3: 3.05 4lou: 2.981 2j9l: 2.3 4kk8: 2.86 4kk9: 2.997 4kjq: 2.875 4kjp: 3.2 4mqx: 3.516 4kk5: 3.171 2ez0: 3.54 4kjw: 3.03 1kpl: 3 3ejz: 2.9 1kpk: 3.5 4fg6: 3.019 3ejy: 3.2 4ene: 2.4 3nmo: 3.1 5hd8: 3.15 "
     ]
    }
   ],
   "source": [
    "# process response\n",
    "if description.status_code == 200:\n",
    "    # create an JSON object from response\n",
    "    exp_summary = js.loads(description.content.decode('utf-8'))\n",
    "    \n",
    "    # number of PDB matches\n",
    "    print(\"Matches: \\n%s of %s\\n\" % (len(exp_summary), len(pdb_list)))\n",
    "    \n",
    "    # read method sections\n",
    "    for k, v in exp_summary.items():\n",
    "        ## experimental method info\n",
    "        experimental_method_class = find_json(v, \"experimental_method_class\")\n",
    "        experimental_rressolution = find_json(v, \"resolution\")\n",
    "        experimental_datasets_url = find_urls(v, k)\n",
    "        \n",
    "        ## check experimental resolution\n",
    "        expres = experimental_rressolution\n",
    "        if len(expres) == 0 or not isinstance(expres[0], (int, float)):\n",
    "            experimental_rressolution = [0.0]\n",
    "        \n",
    "        ## check if working url link was generated\n",
    "        #\\ check_urls(experimental_datasets_url[0])\n",
    "        \n",
    "        ## fill dataset\n",
    "        ## check experimental_method_class!\n",
    "        dataset['{0}'.format(k.upper())].update({'resolution': experimental_rressolution[0]})\n",
    "        #\\ dataset['{0}'.format(k.upper())].update({'url': experimental_datasets_url[0]})\n",
    "        \n",
    "        ## results\n",
    "        print('{0}: {1}'.format(k, experimental_rressolution[0]), end =\" \")\n",
    "        \n",
    "else:\n",
    "    print(\"Failed to retrieve results\")"
   ]
  },
  {
   "cell_type": "markdown",
   "metadata": {},
   "source": [
    "Resume\n",
    "---------\n",
    "data frame `pandas`, save to a `csv` file"
   ]
  },
  {
   "cell_type": "code",
   "execution_count": 519,
   "metadata": {},
   "outputs": [
    {
     "data": {
      "text/html": [
       "<div>\n",
       "<style scoped>\n",
       "    .dataframe tbody tr th:only-of-type {\n",
       "        vertical-align: middle;\n",
       "    }\n",
       "\n",
       "    .dataframe tbody tr th {\n",
       "        vertical-align: top;\n",
       "    }\n",
       "\n",
       "    .dataframe thead th {\n",
       "        text-align: right;\n",
       "    }\n",
       "</style>\n",
       "<table border=\"1\" class=\"dataframe\">\n",
       "  <thead>\n",
       "    <tr style=\"text-align: right;\">\n",
       "      <th></th>\n",
       "      <th>PDB</th>\n",
       "      <th>molecule</th>\n",
       "      <th>gene_name</th>\n",
       "      <th>assembly</th>\n",
       "      <th>deposition_date</th>\n",
       "      <th>method</th>\n",
       "      <th>resolution</th>\n",
       "    </tr>\n",
       "  </thead>\n",
       "  <tbody>\n",
       "    <tr>\n",
       "      <th>0</th>\n",
       "      <td>1KPK</td>\n",
       "      <td>H(+)/Cl(-) exchange transporter ClcA</td>\n",
       "      <td>JW5012</td>\n",
       "      <td>homo-dimer</td>\n",
       "      <td>2001-12-31</td>\n",
       "      <td>x-ray</td>\n",
       "      <td>3.50</td>\n",
       "    </tr>\n",
       "    <tr>\n",
       "      <th>1</th>\n",
       "      <td>1KPL</td>\n",
       "      <td>H(+)/Cl(-) exchange transporter ClcA</td>\n",
       "      <td>STM0203</td>\n",
       "      <td>homo-dimer</td>\n",
       "      <td>2001-12-31</td>\n",
       "      <td>x-ray</td>\n",
       "      <td>3.00</td>\n",
       "    </tr>\n",
       "    <tr>\n",
       "      <th>2</th>\n",
       "      <td>1OTS</td>\n",
       "      <td>H(+)/Cl(-) exchange transporter ClcA</td>\n",
       "      <td>JW5012</td>\n",
       "      <td>hetero-hexamer</td>\n",
       "      <td>2003-03-22</td>\n",
       "      <td>x-ray</td>\n",
       "      <td>2.51</td>\n",
       "    </tr>\n",
       "    <tr>\n",
       "      <th>3</th>\n",
       "      <td>1OTT</td>\n",
       "      <td>H(+)/Cl(-) exchange transporter ClcA</td>\n",
       "      <td>JW5012</td>\n",
       "      <td>hetero-hexamer</td>\n",
       "      <td>2003-03-23</td>\n",
       "      <td>x-ray</td>\n",
       "      <td>3.00</td>\n",
       "    </tr>\n",
       "    <tr>\n",
       "      <th>4</th>\n",
       "      <td>1OTU</td>\n",
       "      <td>H(+)/Cl(-) exchange transporter ClcA</td>\n",
       "      <td>JW5012</td>\n",
       "      <td>hetero-hexamer</td>\n",
       "      <td>2003-03-23</td>\n",
       "      <td>x-ray</td>\n",
       "      <td>3.30</td>\n",
       "    </tr>\n",
       "  </tbody>\n",
       "</table>\n",
       "</div>"
      ],
      "text/plain": [
       "    PDB                              molecule gene_name        assembly  \\\n",
       "0  1KPK  H(+)/Cl(-) exchange transporter ClcA    JW5012      homo-dimer   \n",
       "1  1KPL  H(+)/Cl(-) exchange transporter ClcA   STM0203      homo-dimer   \n",
       "2  1OTS  H(+)/Cl(-) exchange transporter ClcA    JW5012  hetero-hexamer   \n",
       "3  1OTT  H(+)/Cl(-) exchange transporter ClcA    JW5012  hetero-hexamer   \n",
       "4  1OTU  H(+)/Cl(-) exchange transporter ClcA    JW5012  hetero-hexamer   \n",
       "\n",
       "  deposition_date method  resolution  \n",
       "0      2001-12-31  x-ray        3.50  \n",
       "1      2001-12-31  x-ray        3.00  \n",
       "2      2003-03-22  x-ray        2.51  \n",
       "3      2003-03-23  x-ray        3.00  \n",
       "4      2003-03-23  x-ray        3.30  "
      ]
     },
     "execution_count": 519,
     "metadata": {},
     "output_type": "execute_result"
    }
   ],
   "source": [
    "# show dataset_summary as dataframe\n",
    "data = pd.DataFrame.from_dict(dataset, orient='index').reset_index()\n",
    "\n",
    "# change format to datetime\n",
    "data['deposition_date'] = pd.to_datetime(data.deposition_date, \n",
    "                                         infer_datetime_format=True)\n",
    "\n",
    "# changing index cols with rename() \n",
    "data.rename(columns = {'index':'PDB'}, inplace = True)\n",
    "\n",
    "# change objects to category\n",
    "for name in ['PDB', 'molecule', 'gene_name', 'assembly', 'method']:\n",
    "    data[name] = data[name].astype('category')\n",
    "\n",
    "# show dataframe\n",
    "data.head()"
   ]
  },
  {
   "cell_type": "markdown",
   "metadata": {},
   "source": [
    "Analysis\n",
    "---------\n",
    "\n",
    "Some statistic analaysis of these structures."
   ]
  },
  {
   "cell_type": "code",
   "execution_count": 563,
   "metadata": {},
   "outputs": [
    {
     "data": {
      "image/png": "[encoded data removed]",
      "text/plain": [
       "<Figure size 576x360 with 1 Axes>"
      ]
     },
     "metadata": {
      "needs_background": "light"
     },
     "output_type": "display_data"
    }
   ],
   "source": [
    "import datetime\n",
    "import pylab\n",
    "\n",
    "# Plot canvas\n",
    "fig, ax = plt.subplots(1, 1, figsize=(8,5))\n",
    "\n",
    "# global parameters\n",
    "plt.rc('xtick', labelsize=12)\n",
    "plt.rc('ytick', labelsize=14)\n",
    "\n",
    "# palette\n",
    "count = 0\n",
    "palet = ['xkcd:azure', \n",
    "         'xkcd:green', \n",
    "         'xkcd:orange', \n",
    "         'xkcd:red']\n",
    "\n",
    "# gene_name unique values\n",
    "genes = data.gene_name.unique()\n",
    "\n",
    "# plot graph\n",
    "for name in genes:\n",
    "    subs = data[data.gene_name == name]\n",
    "    plt.plot_date(subs.deposition_date, \n",
    "                  subs.resolution,\n",
    "                  mec   = 'k',\n",
    "                  mew   = 0.75,\n",
    "                  ms    = 7,\n",
    "                  alpha = 0.6,\n",
    "                  color = palet[count])\n",
    "    count += 1\n",
    "\n",
    "# customize\n",
    "ax.tick_params(size=10)\n",
    "ax.set_ylim([2.0, 4.3])\n",
    "ax.set_xlim([datetime.date(1999, 1, 1), \n",
    "             datetime.date(2017, 1, 1)])\n",
    "\n",
    "# save label and tick positions\n",
    "plt.draw()\n",
    "locs = ax.get_xticks()\n",
    "labs = ax.get_xticklabels()\n",
    "\n",
    "# boxplot\n",
    "d = ['1998']\n",
    "x = [locs[1]-400]\n",
    "s = dict(markersize=6)\n",
    "plt.boxplot(data.resolution,\n",
    "            positions = x,\n",
    "            widths = 210,\n",
    "            labels = d,\n",
    "            flierprops=s)\n",
    "\n",
    "# Reset the xtick locations.\n",
    "ax.set_xticks(locs)\n",
    "ax.set_xticklabels(labs)\n",
    "\n",
    "# show\n",
    "plt.show()"
   ]
  },
  {
   "cell_type": "code",
   "execution_count": 595,
   "metadata": {},
   "outputs": [
    {
     "data": {
      "text/plain": [
       "1      2529.0\n",
       "2      5925.6\n",
       "3     14998.2\n",
       "4     26836.8\n",
       "5     42537.6\n",
       "6     41660.0\n",
       "7     36348.4\n",
       "8     31276.8\n",
       "9     24949.6\n",
       "10    21800.8\n",
       "11    14031.0\n",
       "12     8857.6\n",
       "13     5096.6\n",
       "14     2379.6\n",
       "15     1979.8\n",
       "16     1288.0\n",
       "17      814.8\n",
       "18      598.4\n",
       "dtype: float64"
      ]
     },
     "execution_count": 595,
     "metadata": {},
     "output_type": "execute_result"
    }
   ],
   "source": [
    "filepath = \"../datasets/PDB_Data_Distribution_by_Resolution.csv\"\n",
    "histopdb = pd.read_csv(filepath, \n",
    "                       names=[\"resolution\", \"entries\"], \n",
    "                       comment='#')\n",
    "\n",
    "# ignore extreme resolution values \n",
    "dr = histopdb.resolution.iloc[1:-1].astype('float64')\n",
    "de = histopdb.entries.iloc[1:-1]\n",
    "# generate syntetic dataset for boxplot "
   ]
  },
  {
   "cell_type": "code",
   "execution_count": null,
   "metadata": {},
   "outputs": [],
   "source": []
  },
  {
   "cell_type": "markdown",
   "metadata": {},
   "source": [
    "Ramachandran\n",
    "------------------\n",
    "\n",
    "Use two routines, one in pyRosetta and the other in BioPython."
   ]
  },
  {
   "cell_type": "code",
   "execution_count": 85,
   "metadata": {},
   "outputs": [
    {
     "name": "stdout",
     "output_type": "stream",
     "text": [
      "     PDB                              molecule gene_name        assembly  \\\n",
      "0   1KPK  H(+)/Cl(-) exchange transporter ClcA    JW5012      homo-dimer   \n",
      "1   1KPL  H(+)/Cl(-) exchange transporter ClcA   STM0203      homo-dimer   \n",
      "2   1OTS  H(+)/Cl(-) exchange transporter ClcA    JW5012  hetero-hexamer   \n",
      "3   1OTT  H(+)/Cl(-) exchange transporter ClcA    JW5012  hetero-hexamer   \n",
      "4   1OTU  H(+)/Cl(-) exchange transporter ClcA    JW5012  hetero-hexamer   \n",
      "5   2EXW  H(+)/Cl(-) exchange transporter ClcA    JW5012  hetero-hexamer   \n",
      "6   2EXY  H(+)/Cl(-) exchange transporter ClcA    JW5012  hetero-hexamer   \n",
      "7   2EZ0  H(+)/Cl(-) exchange transporter ClcA    JW5012  hetero-hexamer   \n",
      "8   2FEC  H(+)/Cl(-) exchange transporter ClcA    JW5012  hetero-hexamer   \n",
      "9   2FED  H(+)/Cl(-) exchange transporter ClcA    JW5012  hetero-hexamer   \n",
      "10  2FEE  H(+)/Cl(-) exchange transporter ClcA    JW5012  hetero-hexamer   \n",
      "11  2H2P  H(+)/Cl(-) exchange transporter ClcA    JW5012  hetero-hexamer   \n",
      "12  2H2S  H(+)/Cl(-) exchange transporter ClcA    JW5012  hetero-hexamer   \n",
      "13  2HLF  H(+)/Cl(-) exchange transporter ClcA    JW5012  hetero-hexamer   \n",
      "14  2HT2  H(+)/Cl(-) exchange transporter ClcA    JW5012  hetero-hexamer   \n",
      "15  2HT3  H(+)/Cl(-) exchange transporter ClcA    JW5012  hetero-hexamer   \n",
      "16  2HT4  H(+)/Cl(-) exchange transporter ClcA    JW5012  hetero-hexamer   \n",
      "17  2HTK  H(+)/Cl(-) exchange transporter ClcA    JW5012  hetero-hexamer   \n",
      "18  2HTL  H(+)/Cl(-) exchange transporter ClcA    JW5012  hetero-hexamer   \n",
      "19  2J9L     H(+)/Cl(-) exchange transporter 5     CLCK2    homo-hexamer   \n",
      "20  2JA3     H(+)/Cl(-) exchange transporter 5     CLCK2      homo-dimer   \n",
      "21  2R9H  H(+)/Cl(-) exchange transporter ClcA    JW5012  hetero-hexamer   \n",
      "22  3DET  H(+)/Cl(-) exchange transporter ClcA    JW5012      homo-dimer   \n",
      "23  3EJY  H(+)/Cl(-) exchange transporter ClcA    JW5012  hetero-hexamer   \n",
      "24  3EJZ  H(+)/Cl(-) exchange transporter ClcA    JW5012  hetero-hexamer   \n",
      "25  3NMO  H(+)/Cl(-) exchange transporter ClcA    JW5012    homo-monomer   \n",
      "26  3Q17                       Sll0855 protein   sll0855      homo-dimer   \n",
      "27  4ENE  H(+)/Cl(-) exchange transporter ClcA    JW5012  hetero-hexamer   \n",
      "28  4FG6  H(+)/Cl(-) exchange transporter ClcA    JW5012   hetero-trimer   \n",
      "29  4FTP  H(+)/Cl(-) exchange transporter ClcA    JW5012      homo-dimer   \n",
      "30  4KJP  H(+)/Cl(-) exchange transporter ClcA    JW5012      homo-dimer   \n",
      "31  4KJQ  H(+)/Cl(-) exchange transporter ClcA    JW5012      homo-dimer   \n",
      "32  4KJW  H(+)/Cl(-) exchange transporter ClcA    JW5012      homo-dimer   \n",
      "33  4KK5  H(+)/Cl(-) exchange transporter ClcA    JW5012      homo-dimer   \n",
      "34  4KK6  H(+)/Cl(-) exchange transporter ClcA    JW5012      homo-dimer   \n",
      "35  4KK8  H(+)/Cl(-) exchange transporter ClcA    JW5012      homo-dimer   \n",
      "36  4KK9  H(+)/Cl(-) exchange transporter ClcA    JW5012      homo-dimer   \n",
      "37  4KKA  H(+)/Cl(-) exchange transporter ClcA    JW5012      homo-dimer   \n",
      "38  4KKB  H(+)/Cl(-) exchange transporter ClcA    JW5012      homo-dimer   \n",
      "39  4KKC  H(+)/Cl(-) exchange transporter ClcA    JW5012      homo-dimer   \n",
      "40  4KKL  H(+)/Cl(-) exchange transporter ClcA    JW5012      homo-dimer   \n",
      "41  4LOU  H(+)/Cl(-) exchange transporter ClcA    JW5012      homo-dimer   \n",
      "42  4MQX  H(+)/Cl(-) exchange transporter ClcA    JW5012      homo-dimer   \n",
      "43  5HD8  H(+)/Cl(-) exchange transporter ClcA    JW5012  hetero-hexamer   \n",
      "\n",
      "   deposition_date method  resolution  \n",
      "0       2001-12-31  x-ray       3.500  \n",
      "1       2001-12-31  x-ray       3.000  \n",
      "2       2003-03-22  x-ray       2.510  \n",
      "3       2003-03-23  x-ray       3.000  \n",
      "4       2003-03-23  x-ray       3.300  \n",
      "5       2005-11-09  x-ray       3.200  \n",
      "6       2005-11-09  x-ray       3.100  \n",
      "7       2005-11-10  x-ray       3.540  \n",
      "8       2005-12-15  x-ray       3.967  \n",
      "9       2005-12-15  x-ray       3.317  \n",
      "10      2005-12-15  x-ray       3.200  \n",
      "11      2006-05-19  x-ray       3.100  \n",
      "12      2006-05-19  x-ray       3.100  \n",
      "13      2006-07-07  x-ray       3.300  \n",
      "14      2006-07-25  x-ray       3.320  \n",
      "15      2006-07-25  x-ray       3.300  \n",
      "16      2006-07-25  x-ray       3.200  \n",
      "17      2006-07-26  x-ray       3.410  \n",
      "18      2006-07-26  x-ray       3.400  \n",
      "19      2006-11-13  x-ray       2.300  \n",
      "20      2006-11-21  x-ray       3.050  \n",
      "21      2007-09-12  x-ray       3.100  \n",
      "22      2008-06-10  x-ray       2.800  \n",
      "23      2008-09-18  x-ray       3.200  \n",
      "24      2008-09-18  x-ray       2.900  \n",
      "25      2010-06-22  x-ray       3.100  \n",
      "26      2010-12-16  x-ray       3.600  \n",
      "27      2012-04-13  x-ray       2.400  \n",
      "28      2012-06-04  x-ray       3.019  \n",
      "29      2012-06-27  x-ray       3.210  \n",
      "30      2013-05-03  x-ray       3.200  \n",
      "31      2013-05-03  x-ray       2.875  \n",
      "32      2013-05-03  x-ray       3.030  \n",
      "33      2013-05-05  x-ray       3.171  \n",
      "34      2013-05-05  x-ray       3.183  \n",
      "35      2013-05-05  x-ray       2.860  \n",
      "36      2013-05-05  x-ray       2.997  \n",
      "37      2013-05-05  x-ray       3.000  \n",
      "38      2013-05-05  x-ray       3.021  \n",
      "39      2013-05-05  x-ray       3.180  \n",
      "40      2013-05-06  x-ray       2.850  \n",
      "41      2013-07-13  x-ray       2.981  \n",
      "42      2013-09-16  x-ray       3.516  \n",
      "43      2016-01-05  x-ray       3.150  \n"
     ]
    }
   ],
   "source": [
    "print(data)"
   ]
  },
  {
   "cell_type": "code",
   "execution_count": null,
   "metadata": {},
   "outputs": [],
   "source": []
  }
 ],
 "metadata": {
  "kernelspec": {
   "display_name": "Python 3",
   "language": "python",
   "name": "python3"
  },
  "language_info": {
   "codemirror_mode": {
    "name": "ipython",
    "version": 3
   },
   "file_extension": ".py",
   "mimetype": "text/x-python",
   "name": "python",
   "nbconvert_exporter": "python",
   "pygments_lexer": "ipython3",
   "version": "3.7.1"
  }
 },
 "nbformat": 4,
 "nbformat_minor": 2
}
