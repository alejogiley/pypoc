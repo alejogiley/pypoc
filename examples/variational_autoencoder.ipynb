{
 "cells": [
  {
   "cell_type": "code",
   "execution_count": 1,
   "metadata": {},
   "outputs": [
    {
     "data": {
      "application/javascript": [
       "IPython.notebook.set_autosave_interval(60000)"
      ]
     },
     "metadata": {},
     "output_type": "display_data"
    },
    {
     "name": "stdout",
     "output_type": "stream",
     "text": [
      "Autosaving every 60 seconds\n"
     ]
    }
   ],
   "source": [
    "%autosave 60"
   ]
  },
  {
   "cell_type": "code",
   "execution_count": 1,
   "metadata": {},
   "outputs": [
    {
     "name": "stderr",
     "output_type": "stream",
     "text": [
      "Using TensorFlow backend.\n",
      "/anaconda3/lib/python3.7/importlib/_bootstrap.py:219: RuntimeWarning: compiletime version 3.6 of module 'tensorflow.python.framework.fast_tensor_util' does not match runtime version 3.7\n",
      "  return f(*args, **kwds)\n"
     ]
    }
   ],
   "source": [
    "from __future__ import absolute_import\n",
    "from __future__ import division\n",
    "from __future__ import print_function\n",
    "\n",
    "# System\n",
    "import os\n",
    "\n",
    "# Arrays\n",
    "import numpy as np\n",
    "\n",
    "# Data analysis\n",
    "import pandas as pd\n",
    "\n",
    "# Machine learning\n",
    "from sklearn.model_selection import train_test_split\n",
    "\n",
    "# Deep learning \n",
    "from keras.models import Model\n",
    "from keras.layers import Lambda, Input, Dense\n",
    "from keras.losses import mse, binary_crossentropy\n",
    "from keras.utils import plot_model\n",
    "from keras import backend as K\n",
    "\n",
    "# Plotting\n",
    "import matplotlib.pyplot as plt\n",
    "from matplotlib.colors import LogNorm\n",
    "\n",
    "# Internal functions\n",
    "from __functions import sampling"
   ]
  },
  {
   "cell_type": "markdown",
   "metadata": {},
   "source": [
    "Get data"
   ]
  },
  {
   "cell_type": "code",
   "execution_count": 2,
   "metadata": {},
   "outputs": [
    {
     "data": {
      "image/png": "[encoded data removed]",
      "text/plain": [
       "<Figure size 432x288 with 1 Axes>"
      ]
     },
     "metadata": {
      "needs_background": "light"
     },
     "output_type": "display_data"
    }
   ],
   "source": [
    "# Define path to structure files\n",
    "filepath = \"../datasets/MD_datasets.csv\"\n",
    "datasets = pd.read_csv(filepath,\n",
    "                       names=[\"phi\", \"psi\"])\n",
    "\n",
    "# visualize\n",
    "fig, ax = plt.subplots()\n",
    "\n",
    "ax.axis([-180,180,-180,180])\n",
    "ax.set(xticks=range(-180, 181, 60), yticks=range(-180, 181, 60),\n",
    "        xlabel=r\"$\\phi$ (deg)\", ylabel=r\"$\\psi$ (deg)\")\n",
    "    \n",
    "r = datasets['phi']\n",
    "u = datasets['psi']\n",
    "\n",
    "ax.hist2d(np.rad2deg(r), np.rad2deg(u), \n",
    "          bins=100, range=[[-180,180],[-180,180]], \n",
    "          norm=LogNorm(), cmap=plt.cm.Blues)\n",
    "\n",
    "plt.show()"
   ]
  },
  {
   "cell_type": "markdown",
   "metadata": {},
   "source": [
    "Variational Autoencoder\n",
    "-----\n",
    "Explain variational autoencoder with bayesian reparameterization trick. Instead of sampling from $Q(z|X)$, sample $\\epsilon = N(0,1)$ with $z = z_{mean} + \\sqrt{\\sigma}*\\epsilon$"
   ]
  },
  {
   "cell_type": "code",
   "execution_count": 34,
   "metadata": {},
   "outputs": [],
   "source": [
    "# System variables\n",
    "residues, frames, types = 428, 600, 2\n",
    "\n",
    "# Reshape datasets\n",
    "# dim = frames * ( residues * types )\n",
    "dat = datasets.values.astype('float32')\n",
    "dat = dat.reshape(frames, residues*types)\n",
    "\n",
    "# Splitting the dataset into training and test sets\n",
    "x_train, x_tests = train_test_split(dat, test_size = 0.2)"
   ]
  },
  {
   "cell_type": "markdown",
   "metadata": {},
   "source": [
    "Define VAE model parameters"
   ]
  },
  {
   "cell_type": "code",
   "execution_count": 37,
   "metadata": {},
   "outputs": [],
   "source": [
    "# Data dimension\n",
    "dataset_dim = np.prod(datasets.shape)\n",
    "initial_dim = residues * types\n",
    "\n",
    "# Network parameters\n",
    "input_shape = (initial_dim, )\n",
    "hidden_dim = 512\n",
    "batch_size = 128\n",
    "latent_dim = 2\n",
    "epochs = 50"
   ]
  },
  {
   "cell_type": "markdown",
   "metadata": {},
   "source": [
    "Build __encoder__ model"
   ]
  },
  {
   "cell_type": "code",
   "execution_count": 38,
   "metadata": {},
   "outputs": [
    {
     "name": "stdout",
     "output_type": "stream",
     "text": [
      "__________________________________________________________________________________________________\n",
      "Layer (type)                    Output Shape         Param #     Connected to                     \n",
      "==================================================================================================\n",
      "encoder_input (InputLayer)      (None, 856)          0                                            \n",
      "__________________________________________________________________________________________________\n",
      "dense_2 (Dense)                 (None, 512)          438784      encoder_input[0][0]              \n",
      "__________________________________________________________________________________________________\n",
      "z_mean (Dense)                  (None, 2)            1026        dense_2[0][0]                    \n",
      "__________________________________________________________________________________________________\n",
      "z_log_var (Dense)               (None, 2)            1026        dense_2[0][0]                    \n",
      "__________________________________________________________________________________________________\n",
      "z (Lambda)                      (None, 2)            0           z_mean[0][0]                     \n",
      "                                                                 z_log_var[0][0]                  \n",
      "==================================================================================================\n",
      "Total params: 440,836\n",
      "Trainable params: 440,836\n",
      "Non-trainable params: 0\n",
      "__________________________________________________________________________________________________\n"
     ]
    }
   ],
   "source": [
    "# VAE (encoder + decoder): Input -> Hidden -> Lambda -> Hidden -> Output\n",
    "# Build encoder model: Input -> Hidden -> Lambda\n",
    "\n",
    "# Input layer\n",
    "inputs = Input(shape=input_shape, name='encoder_input')\n",
    "\n",
    "# Intermediate layer\n",
    "x = Dense(hidden_dim, activation='relu')(inputs)\n",
    "\n",
    "# Stochastic layer\n",
    "z_mean = Dense(latent_dim, name='z_mean')(x)\n",
    "z_log_var = Dense(latent_dim, name='z_log_var')(x)\n",
    "\n",
    "# use reparameterization trick to push the sampling out as input\n",
    "# note that \"output_shape\" isn't necessary with the TensorFlow backend\n",
    "z = Lambda(sampling, output_shape=(latent_dim,), name='z')([z_mean, z_log_var])\n",
    "\n",
    "# Instantiate encoder model\n",
    "encoder = Model(inputs, [z_mean, z_log_var, z], name='encoder')\n",
    "encoder.summary()\n",
    "\n",
    "# plot model\n",
    "plot_model(encoder, \n",
    "           to_file='vae_mlp_encoder.png', \n",
    "           show_shapes=True)"
   ]
  },
  {
   "cell_type": "markdown",
   "metadata": {},
   "source": [
    "Build __decoder__ model"
   ]
  },
  {
   "cell_type": "code",
   "execution_count": 39,
   "metadata": {},
   "outputs": [
    {
     "name": "stdout",
     "output_type": "stream",
     "text": [
      "_________________________________________________________________\n",
      "Layer (type)                 Output Shape              Param #   \n",
      "=================================================================\n",
      "z_sampling (InputLayer)      (None, 2)                 0         \n",
      "_________________________________________________________________\n",
      "dense_3 (Dense)              (None, 512)               1536      \n",
      "_________________________________________________________________\n",
      "dense_4 (Dense)              (None, 856)               439128    \n",
      "=================================================================\n",
      "Total params: 440,664\n",
      "Trainable params: 440,664\n",
      "Non-trainable params: 0\n",
      "_________________________________________________________________\n"
     ]
    }
   ],
   "source": [
    "# Latent input\n",
    "latent_inputs = Input(shape=(latent_dim,), name='z_sampling')\n",
    "\n",
    "# Intermediate layer\n",
    "y = Dense(hidden_dim, activation='relu')(latent_inputs)\n",
    "\n",
    "# Output layer\n",
    "outputs = Dense(initial_dim, activation='sigmoid')(y)\n",
    "\n",
    "# Instantiate decoder model\n",
    "decoder = Model(latent_inputs, outputs, name='decoder')\n",
    "decoder.summary()\n",
    "\n",
    "# plot model\n",
    "plot_model(decoder, \n",
    "           to_file='vae_mlp_decoder.png', \n",
    "           show_shapes=True)"
   ]
  },
  {
   "cell_type": "code",
   "execution_count": 40,
   "metadata": {},
   "outputs": [],
   "source": [
    "# Instantiate VAE model\n",
    "outputs = decoder(encoder(inputs)[2])\n",
    "vae = Model(inputs, outputs, name='vae_mlp')"
   ]
  },
  {
   "cell_type": "markdown",
   "metadata": {},
   "source": [
    "Run the model on the data"
   ]
  },
  {
   "cell_type": "code",
   "execution_count": 42,
   "metadata": {},
   "outputs": [
    {
     "name": "stdout",
     "output_type": "stream",
     "text": [
      "_________________________________________________________________\n",
      "Layer (type)                 Output Shape              Param #   \n",
      "=================================================================\n",
      "encoder_input (InputLayer)   (None, 856)               0         \n",
      "_________________________________________________________________\n",
      "encoder (Model)              [(None, 2), (None, 2), (N 440836    \n",
      "_________________________________________________________________\n",
      "decoder (Model)              (None, 856)               440664    \n",
      "=================================================================\n",
      "Total params: 881,500\n",
      "Trainable params: 881,500\n",
      "Non-trainable params: 0\n",
      "_________________________________________________________________\n",
      "WARNING:tensorflow:From /anaconda3/lib/python3.7/site-packages/tensorflow/python/ops/math_ops.py:3066: to_int32 (from tensorflow.python.ops.math_ops) is deprecated and will be removed in a future version.\n",
      "Instructions for updating:\n",
      "Use tf.cast instead.\n",
      "Train on 480 samples, validate on 120 samples\n",
      "Epoch 1/50\n",
      "480/480 [==============================] - 1s 2ms/step - loss: 661.5824 - val_loss: 85708.3203\n",
      "Epoch 2/50\n",
      "480/480 [==============================] - 0s 593us/step - loss: 20160.1402 - val_loss: -5145.8081\n",
      "Epoch 3/50\n",
      "480/480 [==============================] - 0s 625us/step - loss: -6884.7989 - val_loss: -10715.7920\n",
      "Epoch 4/50\n",
      "480/480 [==============================] - 0s 648us/step - loss: -13558.4434 - val_loss: -19904.5527\n",
      "Epoch 5/50\n",
      "480/480 [==============================] - 0s 473us/step - loss: -24276.4267 - val_loss: -31092.1660\n",
      "Epoch 6/50\n",
      "480/480 [==============================] - 0s 619us/step - loss: -32039.2392 - val_loss: -32403.9805\n",
      "Epoch 7/50\n",
      "480/480 [==============================] - 0s 794us/step - loss: -32179.7901 - val_loss: -31816.8203\n",
      "Epoch 8/50\n",
      "480/480 [==============================] - 0s 617us/step - loss: -31736.2960 - val_loss: -31639.9805\n",
      "Epoch 9/50\n",
      "480/480 [==============================] - 0s 820us/step - loss: -31683.5292 - val_loss: -31797.4453\n",
      "Epoch 10/50\n",
      "480/480 [==============================] - 0s 631us/step - loss: -31923.3667 - val_loss: -32165.3867\n",
      "Epoch 11/50\n",
      "480/480 [==============================] - 0s 544us/step - loss: -32330.2297 - val_loss: -32627.0859\n",
      "Epoch 12/50\n",
      "480/480 [==============================] - 0s 632us/step - loss: -32801.5036 - val_loss: -33107.2305\n",
      "Epoch 13/50\n",
      "480/480 [==============================] - 0s 552us/step - loss: -33273.1992 - val_loss: -33553.3672\n",
      "Epoch 14/50\n",
      "480/480 [==============================] - 0s 494us/step - loss: -33699.7875 - val_loss: -33943.1719\n",
      "Epoch 15/50\n",
      "480/480 [==============================] - 0s 635us/step - loss: -34066.4701 - val_loss: -34270.0430\n",
      "Epoch 16/50\n",
      "480/480 [==============================] - 0s 818us/step - loss: -34372.5362 - val_loss: -34539.4727\n",
      "Epoch 17/50\n",
      "480/480 [==============================] - 0s 730us/step - loss: -34623.9685 - val_loss: -34756.4766\n",
      "Epoch 18/50\n",
      "480/480 [==============================] - 0s 816us/step - loss: -34817.6237 - val_loss: -34905.0703\n",
      "Epoch 19/50\n",
      "480/480 [==============================] - 0s 567us/step - loss: -34932.2570 - val_loss: -34967.8242\n",
      "Epoch 20/50\n",
      "480/480 [==============================] - 0s 581us/step - loss: -34984.7430 - val_loss: -34998.8633\n",
      "Epoch 21/50\n",
      "480/480 [==============================] - 0s 556us/step - loss: -35004.4362 - val_loss: -35012.2656\n",
      "Epoch 22/50\n",
      "480/480 [==============================] - 0s 558us/step - loss: -35023.9294 - val_loss: -35045.6328\n",
      "Epoch 23/50\n",
      "480/480 [==============================] - 0s 554us/step - loss: -35060.5292 - val_loss: -35082.0117\n",
      "Epoch 24/50\n",
      "480/480 [==============================] - 0s 565us/step - loss: -35092.1581 - val_loss: -35105.7500\n",
      "Epoch 25/50\n",
      "480/480 [==============================] - 0s 640us/step - loss: -35113.2164 - val_loss: -35122.2578\n",
      "Epoch 26/50\n",
      "480/480 [==============================] - 0s 901us/step - loss: -35129.9023 - val_loss: -35142.3242\n",
      "Epoch 27/50\n",
      "480/480 [==============================] - 0s 642us/step - loss: -35152.5122 - val_loss: -35165.3164\n",
      "Epoch 28/50\n",
      "480/480 [==============================] - 0s 962us/step - loss: -35172.5945 - val_loss: -35181.5664\n",
      "Epoch 29/50\n",
      "480/480 [==============================] - 0s 552us/step - loss: -35186.8273 - val_loss: -35193.1250\n",
      "Epoch 30/50\n",
      "480/480 [==============================] - 0s 505us/step - loss: -35199.5383 - val_loss: -35208.5586\n",
      "Epoch 31/50\n",
      "480/480 [==============================] - 0s 563us/step - loss: -35216.0073 - val_loss: -35224.4414\n",
      "Epoch 32/50\n",
      "480/480 [==============================] - 0s 577us/step - loss: -35228.7924 - val_loss: -35232.8203\n",
      "Epoch 33/50\n",
      "480/480 [==============================] - 0s 566us/step - loss: -35239.3378 - val_loss: -35244.6016\n",
      "Epoch 34/50\n",
      "480/480 [==============================] - 0s 658us/step - loss: -35252.0404 - val_loss: -35255.7500\n",
      "Epoch 35/50\n",
      "480/480 [==============================] - 0s 517us/step - loss: -35262.0018 - val_loss: -35265.6367\n",
      "Epoch 36/50\n",
      "480/480 [==============================] - 0s 841us/step - loss: -35271.4669 - val_loss: -35276.3711\n",
      "Epoch 37/50\n",
      "480/480 [==============================] - 0s 744us/step - loss: -35282.1508 - val_loss: -35285.6523\n",
      "Epoch 38/50\n",
      "480/480 [==============================] - 0s 768us/step - loss: -35291.2656 - val_loss: -35294.1055\n",
      "Epoch 39/50\n",
      "480/480 [==============================] - 0s 566us/step - loss: -35299.4190 - val_loss: -35303.9023\n",
      "Epoch 40/50\n",
      "480/480 [==============================] - 0s 506us/step - loss: -35309.4036 - val_loss: -35313.0586\n",
      "Epoch 41/50\n",
      "480/480 [==============================] - 0s 586us/step - loss: -35317.4242 - val_loss: -35319.9492\n",
      "Epoch 42/50\n",
      "480/480 [==============================] - 0s 743us/step - loss: -35325.2659 - val_loss: -35328.7383\n",
      "Epoch 43/50\n",
      "480/480 [==============================] - 0s 769us/step - loss: -35333.9896 - val_loss: -35336.1484\n",
      "Epoch 44/50\n",
      "480/480 [==============================] - 0s 772us/step - loss: -35342.0523 - val_loss: -35344.7344\n",
      "Epoch 45/50\n",
      "480/480 [==============================] - 1s 1ms/step - loss: -35350.1542 - val_loss: -35353.3086\n",
      "Epoch 46/50\n",
      "480/480 [==============================] - 1s 1ms/step - loss: -35357.6680 - val_loss: -35360.7539\n",
      "Epoch 47/50\n",
      "480/480 [==============================] - 0s 672us/step - loss: -35365.0841 - val_loss: -35367.8008\n",
      "Epoch 48/50\n",
      "480/480 [==============================] - 0s 703us/step - loss: -35372.9174 - val_loss: -35375.0430\n",
      "Epoch 49/50\n",
      "480/480 [==============================] - 0s 828us/step - loss: -35380.2518 - val_loss: -35383.1953\n",
      "Epoch 50/50\n",
      "480/480 [==============================] - 0s 624us/step - loss: -35388.2427 - val_loss: -35391.0586\n"
     ]
    }
   ],
   "source": [
    "# VAE loss = mse_loss or xent_loss + kl_loss\n",
    "#\\ reconstruction_loss = mse(inputs, outputs)\n",
    "reconstruction_loss = binary_crossentropy(inputs, outputs)\n",
    "reconstruction_loss *= initial_dim\n",
    "\n",
    "kl_loss = 1 + z_log_var - K.square(z_mean) - K.exp(z_log_var)\n",
    "kl_loss = K.sum(kl_loss, axis=-1)\n",
    "kl_loss *= -0.5\n",
    "\n",
    "vae_loss = K.mean(reconstruction_loss + kl_loss)\n",
    "vae.add_loss(vae_loss)\n",
    "\n",
    "vae.compile(optimizer='adam')\n",
    "vae.summary()\n",
    "\n",
    "plot_model(vae, \n",
    "           to_file='vae_mlp.png', \n",
    "           show_shapes=True)\n",
    "\n",
    "# Train the autoencoder\n",
    "vae.fit(x_train, \n",
    "        epochs=epochs, \n",
    "        batch_size=batch_size, \n",
    "        validation_data=(x_tests, None))\n",
    "\n",
    "# Save model\n",
    "vae.save_weights('vae_mlp_mnist.h5')"
   ]
  },
  {
   "cell_type": "markdown",
   "metadata": {},
   "source": [
    "Plot results"
   ]
  },
  {
   "cell_type": "code",
   "execution_count": 50,
   "metadata": {},
   "outputs": [
    {
     "data": {
      "image/png": "[encoded data removed]",
      "text/plain": [
       "<Figure size 864x720 with 1 Axes>"
      ]
     },
     "metadata": {
      "needs_background": "light"
     },
     "output_type": "display_data"
    }
   ],
   "source": [
    "# display a 2D plot of the digit classes in the latent space\n",
    "z_mean, _, _ = encoder.predict(dat, batch_size=128)\n",
    "    \n",
    "plt.figure(figsize=(12, 10))\n",
    "plt.scatter(z_mean[:, 0], z_mean[:, 1], c='blue')\n",
    "#plt.colorbar()\n",
    "plt.xlabel(\"z[0]\")\n",
    "plt.ylabel(\"z[1]\")\n",
    "plt.savefig(\"vae_mean.png\")\n",
    "plt.show()"
   ]
  },
  {
   "cell_type": "code",
   "execution_count": null,
   "metadata": {},
   "outputs": [],
   "source": []
  }
 ],
 "metadata": {
  "kernelspec": {
   "display_name": "Python 3",
   "language": "python",
   "name": "python3"
  },
  "language_info": {
   "codemirror_mode": {
    "name": "ipython",
    "version": 3
   },
   "file_extension": ".py",
   "mimetype": "text/x-python",
   "name": "python",
   "nbconvert_exporter": "python",
   "pygments_lexer": "ipython3",
   "version": "3.7.3"
  }
 },
 "nbformat": 4,
 "nbformat_minor": 2
}
