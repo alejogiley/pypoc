{
 "cells": [
  {
   "cell_type": "code",
   "execution_count": 1,
   "metadata": {},
   "outputs": [
    {
     "data": {
      "application/javascript": [
       "IPython.notebook.set_autosave_interval(60000)"
      ]
     },
     "metadata": {},
     "output_type": "display_data"
    },
    {
     "name": "stdout",
     "output_type": "stream",
     "text": [
      "Autosaving every 60 seconds\n"
     ]
    }
   ],
   "source": [
    "%autosave 60"
   ]
  },
  {
   "cell_type": "markdown",
   "metadata": {},
   "source": [
    "Analysis\n",
    "---------\n",
    "\n",
    "Some statistic analaysis of these structures."
   ]
  },
  {
   "cell_type": "code",
   "execution_count": null,
   "metadata": {},
   "outputs": [],
   "source": [
    "filepath = \"../datasets/PDB_Data_Distribution_by_Resolution.csv\"\n",
    "histopdb = pd.read_csv(filepath, \n",
    "                       names=[\"resolution\", \"entries\"], \n",
    "                       comment='#')\n",
    "\n",
    "# ignore extreme resolution values \n",
    "dr = histopdb.resolution.iloc[1:-1].astype('float64')\n",
    "de = histopdb.entries.iloc[1:-1]\n",
    "# generate syntetic dataset for boxplot "
   ]
  },
  {
   "cell_type": "code",
   "execution_count": null,
   "metadata": {},
   "outputs": [],
   "source": [
    "import datetime\n",
    "import pylab\n",
    "\n",
    "# Plot canvas\n",
    "fig, ax = plt.subplots(1, 1, figsize=(8,5))\n",
    "\n",
    "# global parameters\n",
    "plt.rc('xtick', labelsize=12)\n",
    "plt.rc('ytick', labelsize=14)\n",
    "\n",
    "# palette\n",
    "count = 0\n",
    "palet = ['xkcd:azure', \n",
    "         'xkcd:green', \n",
    "         'xkcd:orange', \n",
    "         'xkcd:red']\n",
    "\n",
    "# gene_name unique values\n",
    "genes = data.gene_name.unique()\n",
    "\n",
    "# plot graph\n",
    "for name in genes:\n",
    "    subs = data[data.gene_name == name]\n",
    "    plt.plot_date(subs.deposition_date, \n",
    "                  subs.resolution,\n",
    "                  mec   = 'k',\n",
    "                  mew   = 0.75,\n",
    "                  ms    = 7,\n",
    "                  alpha = 0.6,\n",
    "                  color = palet[count])\n",
    "    count += 1\n",
    "\n",
    "# customize\n",
    "ax.tick_params(size=10)\n",
    "ax.set_ylim([2.0, 4.3])\n",
    "ax.set_xlim([datetime.date(1999, 1, 1), \n",
    "             datetime.date(2017, 1, 1)])\n",
    "\n",
    "# save label and tick positions\n",
    "plt.draw()\n",
    "locs = ax.get_xticks()\n",
    "labs = ax.get_xticklabels()\n",
    "\n",
    "# boxplot\n",
    "d = ['1998']\n",
    "x = [locs[1]-400]\n",
    "s = dict(markersize=6)\n",
    "plt.boxplot(data.resolution,\n",
    "            positions = x,\n",
    "            widths = 210,\n",
    "            labels = d,\n",
    "            flierprops=s)\n",
    "\n",
    "# Reset the xtick locations.\n",
    "ax.set_xticks(locs)\n",
    "ax.set_xticklabels(labs)\n",
    "\n",
    "# show\n",
    "plt.show()"
   ]
  }
 ],
 "metadata": {
  "kernelspec": {
   "display_name": "Python 3",
   "language": "python",
   "name": "python3"
  },
  "language_info": {
   "codemirror_mode": {
    "name": "ipython",
    "version": 3
   },
   "file_extension": ".py",
   "mimetype": "text/x-python",
   "name": "python",
   "nbconvert_exporter": "python",
   "pygments_lexer": "ipython3",
   "version": "3.7.1"
  }
 },
 "nbformat": 4,
 "nbformat_minor": 2
}
