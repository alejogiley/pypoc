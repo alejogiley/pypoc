{
 "cells": [
  {
   "cell_type": "code",
   "execution_count": 111,
   "metadata": {},
   "outputs": [],
   "source": [
    "# load MDAnalysis library \n",
    "# to deal with GRO/XTC files\n",
    "import MDAnalysis as mda\n",
    "\n",
    "# load nglview for visualization\n",
    "# of molecular systems\n",
    "import nglview as nv"
   ]
  },
  {
   "cell_type": "markdown",
   "metadata": {},
   "source": [
    "Biomolecular system\n",
    "-------------------------\n",
    "\n",
    "In this exmaple we are going to analyze two MD simulations of **CLC**, a bacterial Cl$^-$/H$^+$ antiporter, embedded in a bilayer composed of **POPC** and **DLPC**. Simulations were run on *Anton 2* for about 15 $\\mu$s each. The files included in the ``../datasets/trajectories/`` directory contain only protein and lipids heavy atoms, all other elements, like water and ions, were removed beforehand."
   ]
  },
  {
   "cell_type": "code",
   "execution_count": 112,
   "metadata": {},
   "outputs": [],
   "source": [
    "# define path to MD traj files\n",
    "PATHD = \"../datasets/trajectories/\"\n",
    "FRAME = PATHD + \"CLCec1_anton2_restrained_15us.gro\" \n",
    "TRAJD = PATHD + \"CLCec1_anton2_restrained_15us.xtc\"\n",
    "\n",
    "# load just first frame for visualization\n",
    "# you could add TRAJD to see the MD trajectory,\n",
    "# but you should fit the trajectory right after\n",
    "u = mda.Universe(FRAME)"
   ]
  },
  {
   "cell_type": "markdown",
   "metadata": {},
   "source": [
    "In total each trajectory file containts 300 frames, which correspond to a stride of $\\sim$50 ns."
   ]
  },
  {
   "cell_type": "code",
   "execution_count": 119,
   "metadata": {},
   "outputs": [
    {
     "name": "stdout",
     "output_type": "stream",
     "text": [
      "The total number of atoms is 34421,\n",
      "from which 3205 are part of protein,\n",
      "and 31216 belong to lipids.\n"
     ]
    }
   ],
   "source": [
    "print(\"The total number of atoms is %s,\" % u.atoms.n_atoms)\n",
    "print(\"from which %s are part of protein,\" % u.select_atoms(\"protein\").n_atoms)\n",
    "print(\"and %s belong to lipids.\" % u.select_atoms(\"not protein\").n_atoms)"
   ]
  },
  {
   "cell_type": "markdown",
   "metadata": {},
   "source": [
    "Visualizing the protein\n",
    "--------------------------\n",
    "\n",
    "Let's now check our protein. As you can see this is an integral membrane protein composed mainly of alpha-helixes. This protein is found mainly as a homo-dimer, even in very diluted conditions, 1 protein subunit per $\\sim$10$^7$ lipids. The region shown in blue indicates the dimerization interface. "
   ]
  },
  {
   "cell_type": "code",
   "execution_count": 138,
   "metadata": {},
   "outputs": [
    {
     "data": {
      "application/vnd.jupyter.widget-view+json": {
       "model_id": "c27f30c7de9349acb11dcc5186f6e656",
       "version_major": 2,
       "version_minor": 0
      },
      "text/plain": [
       "NGLWidget()"
      ]
     },
     "metadata": {},
     "output_type": "display_data"
    }
   ],
   "source": [
    "# select atoms\n",
    "protein = u.select_atoms(\"protein\")\n",
    "\n",
    "# nglview widget\n",
    "view = nv.show_mdanalysis(protein)\n",
    "\n",
    "# visualization options\n",
    "view.clear_representations()\n",
    "view.add_cartoon(selection=\"protein\", colorScheme=\"sstruc\")\n",
    "view.add_cartoon(selection=\"372-410.CA or 160-202.CA\")\n",
    "view._remote_call(\"setSize\", target=\"Widget\", args=[\"1000px\", \"500px\"])\n",
    "view.camera = 'orthographic'\n",
    "view"
   ]
  },
  {
   "cell_type": "markdown",
   "metadata": {},
   "source": [
    "The whole package\n",
    "-----------------------\n",
    "\n",
    "The motivation for running these MD simulations was to study the preferential organization of lipids around the dimerization interface. In this tutorial we will investigate this relation. Here you can see a snippet of the protein-membrane system simulated using an all-atom potential."
   ]
  },
  {
   "cell_type": "code",
   "execution_count": 139,
   "metadata": {},
   "outputs": [
    {
     "data": {
      "application/vnd.jupyter.widget-view+json": {
       "model_id": "2c54fe7f51714f8fa09e31e19ed44a22",
       "version_major": 2,
       "version_minor": 0
      },
      "text/plain": [
       "NGLWidget()"
      ]
     },
     "metadata": {},
     "output_type": "display_data"
    }
   ],
   "source": [
    "# select molecules: protein + membrane\n",
    "protmemb = u.select_atoms('resname POPC DLPC',\n",
    "                          'protein', updating=True)\n",
    "\n",
    "# Jupyter widget\n",
    "view = nv.show_mdanalysis(protmemb)\n",
    "\n",
    "# visualization options\n",
    "view.clear_representations()\n",
    "view.add_licorice(selection=\"not protein\")\n",
    "view.add_cartoon(selection=\"protein\", colorScheme=\"sstruc\")\n",
    "view._remote_call(\"setSize\", target=\"Widget\", args=[\"1000px\", \"600px\"])\n",
    "view.camera = 'orthographic'\n",
    "view.center(selection='protein')\n",
    "view"
   ]
  },
  {
   "cell_type": "code",
   "execution_count": null,
   "metadata": {},
   "outputs": [],
   "source": []
  }
 ],
 "metadata": {
  "kernelspec": {
   "display_name": "Python 3",
   "language": "python",
   "name": "python3"
  },
  "language_info": {
   "codemirror_mode": {
    "name": "ipython",
    "version": 3
   },
   "file_extension": ".py",
   "mimetype": "text/x-python",
   "name": "python",
   "nbconvert_exporter": "python",
   "pygments_lexer": "ipython3",
   "version": "3.7.1"
  }
 },
 "nbformat": 4,
 "nbformat_minor": 2
}
