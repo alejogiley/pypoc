{
 "cells": [
  {
   "cell_type": "code",
   "execution_count": 1,
   "metadata": {},
   "outputs": [
    {
     "data": {
      "application/javascript": [
       "IPython.notebook.set_autosave_interval(60000)"
      ]
     },
     "metadata": {},
     "output_type": "display_data"
    },
    {
     "name": "stdout",
     "output_type": "stream",
     "text": [
      "Autosaving every 60 seconds\n"
     ]
    }
   ],
   "source": [
    "%autosave 60"
   ]
  },
  {
   "cell_type": "code",
   "execution_count": 16,
   "metadata": {},
   "outputs": [],
   "source": [
    "# manage JSON format \n",
    "# and data analysis\n",
    "import json as js\n",
    "import numpy as np\n",
    "import pandas as pd\n",
    "\n",
    "# manage XML objects\n",
    "import xml.etree.ElementTree as ET\n",
    "\n",
    "# libraries for \n",
    "# handling URLs\n",
    "import requests\n",
    "from urllib.error import URLError\n",
    "from urllib.request import Request, urlopen, urlretrieve\n",
    "\n",
    "# import functions \n",
    "from __functions import *\n",
    "\n",
    "# process-based “threading” interface\n",
    "from multiprocessing import Pool, Process"
   ]
  },
  {
   "cell_type": "markdown",
   "metadata": {},
   "source": [
    "Identifiers\n",
    "------\n",
    "Execute an advanced search query to [RCSB-PDB](https://www.rcsb.org/pages/webservices/rest-search). \n",
    "\n",
    "```xml\n",
    "query Type = Macromolecule name\n",
    "patter = exchange transporter\n",
    "```"
   ]
  },
  {
   "cell_type": "code",
   "execution_count": 3,
   "metadata": {},
   "outputs": [
    {
     "name": "stdout",
     "output_type": "stream",
     "text": [
      "Found 44 PDB entries matching query.\n",
      "Matches: \n",
      "1KPK:1,1KPL:1,1OTS:1,1OTT:1,1OTU:1,2EXW:1,2EXY:1,2EZ0:1,2FEC:1,2FED:1,2FEE:1,2H2P:1,2H2S:1,2HLF:1,2HT2:1,2HT3:1,2HT4:1,2HTK:1,2HTL:1,2J9L:1,2JA3:1,2R9H:1,3DET:1,3EJY:1,3EJZ:1,3NMO:1,3Q17:1,4ENE:1,4FG6:1,4FTP:1,4KJP:1,4KJQ:1,4KJW:1,4KK5:1,4KK6:1,4KK8:1,4KK9:1,4KKA:1,4KKB:1,4KKC:1,4KKL:1,4LOU:1,4MQX:1,5HD8:1\n"
     ]
    }
   ],
   "source": [
    "# set URL\n",
    "api_url = 'https://www.rcsb.org/pdb/rest/search'\n",
    "\n",
    "# XML Query\n",
    "query_text = \"\"\"\n",
    "<?xml version=\"1.0\" encoding=\"UTF-8\"?>\n",
    "<orgPdbQuery>\n",
    "<queryType>org.pdb.query.simple.MoleculeNameQuery</queryType>\n",
    "<description>Molecule Name Search : Molecule Name=H(+)/Cl(-) exchange transporter</description>\n",
    "<macromoleculeName>\"exchange transporter\"</macromoleculeName>\n",
    "</orgPdbQuery>\n",
    "\"\"\"\n",
    "\n",
    "# header for server\n",
    "header = {'Content-Type': 'application/x-www-form-urlencoded'}\n",
    "\n",
    "# POST a XML representation of an advanced search\n",
    "response = requests.post(api_url, data=query_text, headers=header)\n",
    "\n",
    "# check & print response\n",
    "if response.status_code == 200:\n",
    "    pdb_list = response.text.split()\n",
    "    print(\"Found %d PDB entries matching query.\" % len(pdb_list))\n",
    "    print(\"Matches: \\n%s\" % \",\".join(pdb_list))\n",
    "else:\n",
    "    print(\"Failed to retrieve results\")"
   ]
  },
  {
   "cell_type": "code",
   "execution_count": 4,
   "metadata": {},
   "outputs": [],
   "source": [
    "# lets clean the subfixes in PDB list\n",
    "pdb_list = [pdb.split(':')[0] for pdb in pdb_list]"
   ]
  },
  {
   "cell_type": "markdown",
   "metadata": {},
   "source": [
    "Molecules in the entry\n",
    "------\n",
    "Execute an advanced search query to [PDBe](http://www.ebi.ac.uk/pdbe) using `REST` calls based on PDB entry data. Calls to [PDBe-API-URL/molecules](http://www.ebi.ac.uk/pdbe/api/pdb/entry/molecules/) provides details of molecules modelled in the entry, such as entity id, description, type, number of copies in the entry, source organism(s), etc. Details at PDBe `REST` API [doc](`http://www.ebi.ac.uk/pdbe/api/doc/`) page."
   ]
  },
  {
   "cell_type": "code",
   "execution_count": 5,
   "metadata": {},
   "outputs": [],
   "source": [
    "# dict with \"PDB ID\" as keys, e.g.:\n",
    "# 6d7v: { molecule: Transient receptor potential cation channel subfamily V member 6, \n",
    "#         gene_name: Trpv6,\n",
    "#         assembly: homo-tetramer,\n",
    "#         method: x-ray, \n",
    "#         resolution: 4.3, \n",
    "#         deposition_date: 2003-03-22\n",
    "#       } \n",
    "dataset = {}"
   ]
  },
  {
   "cell_type": "code",
   "execution_count": 6,
   "metadata": {},
   "outputs": [],
   "source": [
    "# set URL\n",
    "api_url = \"\"\"http://www.ebi.ac.uk/pdbe/api/pdb/entry/molecules/\"\"\"\n",
    "\n",
    "# query list of PDB IDs\n",
    "query_text = \",\".join(pdb_list)\n",
    "\n",
    "# POST a XML representation of an advanced search\n",
    "description = requests.post(api_url, data=query_text)"
   ]
  },
  {
   "cell_type": "code",
   "execution_count": 7,
   "metadata": {},
   "outputs": [
    {
     "name": "stdout",
     "output_type": "stream",
     "text": [
      "Matches: \n",
      "44 of 44\n",
      "\n",
      "Summary:\n",
      "4kkl: JW5012 4kkb: JW5012 4kkc: JW5012 4kka: JW5012 2exw: JW5012 4kk6: JW5012 2r9h: JW5012 2ht4: JW5012 2ht2: JW5012 2ht3: JW5012 2exy: JW5012 2hlf: JW5012 3q17: sll0855 2h2p: JW5012 2h2s: JW5012 1ott: JW5012 1otu: JW5012 1ots: JW5012 2fec: JW5012 4ftp: JW5012 2fee: JW5012 2fed: JW5012 2htl: JW5012 2htk: JW5012 3det: JW5012 2ja3: CLCK2 4lou: JW5012 2j9l: CLCK2 4kk8: JW5012 4kk9: JW5012 4kjq: JW5012 4kjp: JW5012 4mqx: JW5012 4kk5: JW5012 2ez0: JW5012 4kjw: JW5012 1kpl: STM0203 3ejz: JW5012 3ejy: JW5012 4fg6: JW5012 1kpk: JW5012 4ene: JW5012 3nmo: JW5012 5hd8: JW5012 "
     ]
    }
   ],
   "source": [
    "# process response\n",
    "if description.status_code == 200:\n",
    "    # create an JSON object from response\n",
    "    pdb_molecules = js.loads(description.content.decode('utf-8'))\n",
    "    \n",
    "    # number of PDB matches\n",
    "    print(\"Matches: \\n%s of %s\\n\" % (len(pdb_molecules), len(pdb_list)))\n",
    "    print(\"Summary:\")\n",
    "    \n",
    "    # read summary sections\n",
    "    for k, v in pdb_molecules.items():\n",
    "        # macromolecule gene & molecule name\n",
    "        macromolecules_gene_names = find_json(v, \"gene_name\")\n",
    "        macromolecules_mole_names = find_json(v, \"molecule_name\")\n",
    "        \n",
    "        # fill dataset\n",
    "        if len(macromolecules_mole_names) > 0:\n",
    "            dataset['{0}'.format(k.upper())] = {'molecule': \n",
    "                                                macromolecules_mole_names[0]}\n",
    "        if len(macromolecules_gene_names) > 0:\n",
    "            dataset['{0}'.format(k.upper())].update({'gene_name': \n",
    "                                                     macromolecules_gene_names[0]})\n",
    "        \n",
    "        # example results\n",
    "        try:\n",
    "            print('{0}: {1}'.format(k, macromolecules_gene_names[0]), end=\" \")\n",
    "        except IndexError:\n",
    "            print('{0}: {1}'.format(k, \"None\"), end=\" \")\n",
    "    \n",
    "else:\n",
    "    print(\"Failed to retrieve results\")"
   ]
  },
  {
   "cell_type": "markdown",
   "metadata": {},
   "source": [
    "Summary\n",
    "------\n",
    "Calls to [PDBe-API-URL/summary](http://www.ebi.ac.uk/pdbe/api/pdb/entry/summary/) provide a summary of properties of a PDB entry, such as the title of the entry, experimental method, assemblies, etc. Details at PDBe `REST` API [doc](`http://www.ebi.ac.uk/pdbe/api/doc/`) page."
   ]
  },
  {
   "cell_type": "code",
   "execution_count": 8,
   "metadata": {},
   "outputs": [],
   "source": [
    "# set URL\n",
    "api_url = \"\"\"http://www.ebi.ac.uk/pdbe/api/pdb/entry/summary/\"\"\"\n",
    "\n",
    "# query list of PDB IDs\n",
    "query_text = \",\".join(pdb_list)\n",
    "\n",
    "# POST a XML representation of an advanced search\n",
    "description = requests.post(api_url, data=query_text)"
   ]
  },
  {
   "cell_type": "code",
   "execution_count": 9,
   "metadata": {},
   "outputs": [
    {
     "name": "stdout",
     "output_type": "stream",
     "text": [
      "Matches: \n",
      "44 of 44\n",
      "\n",
      "Summary:\n",
      "4kkl: x-ray 4kkb: x-ray 4kkc: x-ray 4kka: x-ray 2exw: x-ray 4kk6: x-ray 2r9h: x-ray 2ht4: x-ray 2ht2: x-ray 2ht3: x-ray 2exy: x-ray 2hlf: x-ray 3q17: x-ray 2h2p: x-ray 2h2s: x-ray 1ott: x-ray 1otu: x-ray 1ots: x-ray 2fec: x-ray 4ftp: x-ray 2fee: x-ray 2fed: x-ray 2htl: x-ray 2htk: x-ray 3det: x-ray 2ja3: x-ray 4lou: x-ray 2j9l: x-ray 4kk8: x-ray 4kk9: x-ray 4kjq: x-ray 4kjp: x-ray 4mqx: x-ray 4kk5: x-ray 2ez0: x-ray 4kjw: x-ray 1kpl: x-ray 3ejz: x-ray 1kpk: x-ray 4fg6: x-ray 3ejy: x-ray 4ene: x-ray 3nmo: x-ray 5hd8: x-ray "
     ]
    }
   ],
   "source": [
    "# process response\n",
    "if description.status_code == 200:\n",
    "    # create an JSON object from response\n",
    "    pdb_summary = js.loads(description.content.decode('utf-8'))\n",
    "    \n",
    "    # number of PDB matches\n",
    "    print(\"Matches: \\n%s of %s\\n\" % (len(pdb_summary), len(pdb_list)))\n",
    "    print(\"Summary:\")\n",
    "    \n",
    "    # read summary sections\n",
    "    for k, v in pdb_summary.items():\n",
    "        ## depostion date / assembly composition / multimeric state\n",
    "        structure_deposition_date = find_json(v, \"deposition_date\")\n",
    "        structure_assemblies_form = find_json(v, \"assemblies\")[0]['form']\n",
    "        structure_assemblies_name = find_json(v, \"assemblies\")[0]['name']\n",
    "        multimeric_assembly_state = (structure_assemblies_form + \"-\" +\n",
    "                                     structure_assemblies_name)\n",
    "        ## experimental method info\n",
    "        experimental_method_class = find_json(v, \"experimental_method_class\")\n",
    "        \n",
    "        ## test experimental method class > \n",
    "        ## should be one of these [x-ray, em, nmr]\n",
    "        if experimental_method_class[0] not in ['x-ray', 'em', 'nmr']:\n",
    "            print('unusual experimental method class:\\n%s' \n",
    "                  % experimental_method_class[0])\n",
    "        \n",
    "        # fill dataset\n",
    "        dataset['{0}'.format(k.upper())].update({'assembly': \n",
    "                                                 multimeric_assembly_state})\n",
    "        dataset['{0}'.format(k.upper())].update({'method': \n",
    "                                                 experimental_method_class[0]})\n",
    "        dataset['{0}'.format(k.upper())].update({'deposition_date': \n",
    "                                                 \"\".join(structure_deposition_date)})\n",
    "        \n",
    "        # example results\n",
    "        print('{0}: {1}'.format(k, experimental_method_class[0]), end =\" \")\n",
    "    \n",
    "else:\n",
    "    print(\"Failed to retrieve results\")"
   ]
  },
  {
   "cell_type": "markdown",
   "metadata": {},
   "source": [
    "Experiments\n",
    "----\n",
    "Execute an advanced search query to [PDBe](http://www.ebi.ac.uk/pdbe) using `REST` calls based on PDB entry data. Calls to [PDBe-API-URL/experiment](http://www.ebi.ac.uk/pdbe/api/pdb/entry/experiment/) This call provides details of experiment(s) carried out in determining the structure of the entry. Each experiment is described in a separate dictionary. For **X-ray diffraction**, the description consists of resolution, spacegroup, cell dimensions, R and Rfree, refinement program, etc. For **NMR**, details of spectrometer, sample, spectra, refinement, etc. are included. For **EM**, details of specimen, imaging, acquisition, reconstruction, fitting etc. are included.  Details at PDBe `REST` API [doc](`http://www.ebi.ac.uk/pdbe/api/doc/`) page."
   ]
  },
  {
   "cell_type": "code",
   "execution_count": 10,
   "metadata": {},
   "outputs": [],
   "source": [
    "# set URL\n",
    "api_url = \"\"\"http://www.ebi.ac.uk/pdbe/api/pdb/entry/experiment/\"\"\"\n",
    "\n",
    "# query list of PDB IDs\n",
    "query_text = \",\".join(pdb_list)\n",
    "\n",
    "# POST a XML representation of an advanced search\n",
    "description = requests.post(api_url, data=query_text)"
   ]
  },
  {
   "cell_type": "code",
   "execution_count": 11,
   "metadata": {},
   "outputs": [
    {
     "name": "stdout",
     "output_type": "stream",
     "text": [
      "Matches: \n",
      "44 of 44\n",
      "\n",
      "4kkl: 2.85 4kkb: 3.021 4kkc: 3.18 4kka: 3 2exw: 3.2 4kk6: 3.183 2r9h: 3.1 2ht4: 3.2 2ht2: 3.32 2ht3: 3.3 2exy: 3.1 2hlf: 3.3 3q17: 3.6 2h2p: 3.1 2h2s: 3.1 1ott: 3 1otu: 3.3 1ots: 2.51 2fec: 3.967 4ftp: 3.21 2fee: 3.2 2fed: 3.317 2htl: 3.4 2htk: 3.41 3det: 2.8 2ja3: 3.05 4lou: 2.981 2j9l: 2.3 4kk8: 2.86 4kk9: 2.997 4kjq: 2.875 4kjp: 3.2 4mqx: 3.516 4kk5: 3.171 2ez0: 3.54 4kjw: 3.03 1kpl: 3 3ejz: 2.9 1kpk: 3.5 4fg6: 3.019 3ejy: 3.2 4ene: 2.4 3nmo: 3.1 5hd8: 3.15 "
     ]
    }
   ],
   "source": [
    "# process response\n",
    "if description.status_code == 200:\n",
    "    # create an JSON object from response\n",
    "    exp_summary = js.loads(description.content.decode('utf-8'))\n",
    "    \n",
    "    # number of PDB matches\n",
    "    print(\"Matches: \\n%s of %s\\n\" % (len(exp_summary), len(pdb_list)))\n",
    "    \n",
    "    # read method sections\n",
    "    for k, v in exp_summary.items():\n",
    "        ## experimental method info\n",
    "        experimental_method_class = find_json(v, \"experimental_method_class\")\n",
    "        experimental_rressolution = find_json(v, \"resolution\")\n",
    "        experimental_datasets_url = find_urls(v, k)\n",
    "        \n",
    "        ## check experimental resolution\n",
    "        expres = experimental_rressolution\n",
    "        if len(expres) == 0 or not isinstance(expres[0], (int, float)):\n",
    "            experimental_rressolution = [0.0]\n",
    "        \n",
    "        ## check if working url link was generated\n",
    "        #\\ check_urls(experimental_datasets_url[0])\n",
    "        \n",
    "        ## fill dataset\n",
    "        ## check experimental_method_class!\n",
    "        dataset['{0}'.format(k.upper())].update({'resolution': experimental_rressolution[0]})\n",
    "        #\\ dataset['{0}'.format(k.upper())].update({'url': experimental_datasets_url[0]})\n",
    "        \n",
    "        ## results\n",
    "        print('{0}: {1}'.format(k, experimental_rressolution[0]), end =\" \")\n",
    "        \n",
    "else:\n",
    "    print(\"Failed to retrieve results\")"
   ]
  },
  {
   "cell_type": "markdown",
   "metadata": {},
   "source": [
    "Resume\n",
    "---------\n",
    "data frame `pandas`, save to a `csv` file"
   ]
  },
  {
   "cell_type": "code",
   "execution_count": 12,
   "metadata": {},
   "outputs": [
    {
     "data": {
      "text/html": [
       "<div>\n",
       "<style scoped>\n",
       "    .dataframe tbody tr th:only-of-type {\n",
       "        vertical-align: middle;\n",
       "    }\n",
       "\n",
       "    .dataframe tbody tr th {\n",
       "        vertical-align: top;\n",
       "    }\n",
       "\n",
       "    .dataframe thead th {\n",
       "        text-align: right;\n",
       "    }\n",
       "</style>\n",
       "<table border=\"1\" class=\"dataframe\">\n",
       "  <thead>\n",
       "    <tr style=\"text-align: right;\">\n",
       "      <th></th>\n",
       "      <th>PDB</th>\n",
       "      <th>molecule</th>\n",
       "      <th>gene_name</th>\n",
       "      <th>assembly</th>\n",
       "      <th>method</th>\n",
       "      <th>deposition_date</th>\n",
       "      <th>resolution</th>\n",
       "    </tr>\n",
       "  </thead>\n",
       "  <tbody>\n",
       "    <tr>\n",
       "      <th>0</th>\n",
       "      <td>1KPK</td>\n",
       "      <td>H(+)/Cl(-) exchange transporter ClcA</td>\n",
       "      <td>JW5012</td>\n",
       "      <td>homo-dimer</td>\n",
       "      <td>x-ray</td>\n",
       "      <td>2001-12-31</td>\n",
       "      <td>3.50</td>\n",
       "    </tr>\n",
       "    <tr>\n",
       "      <th>1</th>\n",
       "      <td>1KPL</td>\n",
       "      <td>H(+)/Cl(-) exchange transporter ClcA</td>\n",
       "      <td>STM0203</td>\n",
       "      <td>homo-dimer</td>\n",
       "      <td>x-ray</td>\n",
       "      <td>2001-12-31</td>\n",
       "      <td>3.00</td>\n",
       "    </tr>\n",
       "    <tr>\n",
       "      <th>2</th>\n",
       "      <td>1OTS</td>\n",
       "      <td>H(+)/Cl(-) exchange transporter ClcA</td>\n",
       "      <td>JW5012</td>\n",
       "      <td>hetero-hexamer</td>\n",
       "      <td>x-ray</td>\n",
       "      <td>2003-03-22</td>\n",
       "      <td>2.51</td>\n",
       "    </tr>\n",
       "    <tr>\n",
       "      <th>3</th>\n",
       "      <td>1OTT</td>\n",
       "      <td>H(+)/Cl(-) exchange transporter ClcA</td>\n",
       "      <td>JW5012</td>\n",
       "      <td>hetero-hexamer</td>\n",
       "      <td>x-ray</td>\n",
       "      <td>2003-03-23</td>\n",
       "      <td>3.00</td>\n",
       "    </tr>\n",
       "    <tr>\n",
       "      <th>4</th>\n",
       "      <td>1OTU</td>\n",
       "      <td>H(+)/Cl(-) exchange transporter ClcA</td>\n",
       "      <td>JW5012</td>\n",
       "      <td>hetero-hexamer</td>\n",
       "      <td>x-ray</td>\n",
       "      <td>2003-03-23</td>\n",
       "      <td>3.30</td>\n",
       "    </tr>\n",
       "  </tbody>\n",
       "</table>\n",
       "</div>"
      ],
      "text/plain": [
       "    PDB                              molecule gene_name        assembly  \\\n",
       "0  1KPK  H(+)/Cl(-) exchange transporter ClcA    JW5012      homo-dimer   \n",
       "1  1KPL  H(+)/Cl(-) exchange transporter ClcA   STM0203      homo-dimer   \n",
       "2  1OTS  H(+)/Cl(-) exchange transporter ClcA    JW5012  hetero-hexamer   \n",
       "3  1OTT  H(+)/Cl(-) exchange transporter ClcA    JW5012  hetero-hexamer   \n",
       "4  1OTU  H(+)/Cl(-) exchange transporter ClcA    JW5012  hetero-hexamer   \n",
       "\n",
       "  method deposition_date  resolution  \n",
       "0  x-ray      2001-12-31        3.50  \n",
       "1  x-ray      2001-12-31        3.00  \n",
       "2  x-ray      2003-03-22        2.51  \n",
       "3  x-ray      2003-03-23        3.00  \n",
       "4  x-ray      2003-03-23        3.30  "
      ]
     },
     "execution_count": 12,
     "metadata": {},
     "output_type": "execute_result"
    }
   ],
   "source": [
    "# show dataset_summary as dataframe\n",
    "data = pd.DataFrame.from_dict(dataset, orient='index').reset_index()\n",
    "\n",
    "# change format to datetime\n",
    "data['deposition_date'] = pd.to_datetime(data.deposition_date, \n",
    "                                         infer_datetime_format=True)\n",
    "\n",
    "# changing index cols with rename() \n",
    "data.rename(columns = {'index':'PDB'}, inplace = True)\n",
    "\n",
    "# change objects to category\n",
    "for name in ['PDB', 'molecule', 'gene_name', 'assembly', 'method']:\n",
    "    data[name] = data[name].astype('category')\n",
    "\n",
    "# show dataframe\n",
    "data.head()"
   ]
  },
  {
   "cell_type": "markdown",
   "metadata": {},
   "source": [
    "Save data"
   ]
  },
  {
   "cell_type": "code",
   "execution_count": 15,
   "metadata": {},
   "outputs": [],
   "source": [
    "data.to_csv(\"../datasets/PDB_H+Cl_exchange_transporters.csv\", index=True)"
   ]
  },
  {
   "cell_type": "code",
   "execution_count": null,
   "metadata": {},
   "outputs": [],
   "source": []
  }
 ],
 "metadata": {
  "kernelspec": {
   "display_name": "Python 3",
   "language": "python",
   "name": "python3"
  },
  "language_info": {
   "codemirror_mode": {
    "name": "ipython",
    "version": 3
   },
   "file_extension": ".py",
   "mimetype": "text/x-python",
   "name": "python",
   "nbconvert_exporter": "python",
   "pygments_lexer": "ipython3",
   "version": "3.7.1"
  }
 },
 "nbformat": 4,
 "nbformat_minor": 2
}
