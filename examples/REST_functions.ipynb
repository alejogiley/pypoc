{
 "cells": [
  {
   "cell_type": "code",
   "execution_count": 1,
   "metadata": {},
   "outputs": [],
   "source": [
    "# load libraries\n",
    "import json\n",
    "import requests\n",
    "\n",
    "from urllib.error import URLError\n",
    "from urllib.request import Request, urlopen"
   ]
  },
  {
   "cell_type": "code",
   "execution_count": 2,
   "metadata": {},
   "outputs": [],
   "source": [
    "# add test to function\n",
    "def find_json(json, name):\n",
    "    \"\"\"Read json objects and\n",
    "       return value from item.\n",
    "       \n",
    "       Keyword arguments:\n",
    "       name -- name of item\n",
    "       json -- JSON object\n",
    "    \"\"\"\n",
    "    try:\n",
    "        mylist = []\n",
    "        for item in json:\n",
    "            if item.get(name) is not None:\n",
    "                mylist += item.get(name)\n",
    "        return mylist\n",
    "    \n",
    "    except TypeError:\n",
    "        return [item.get(name) for item in json]"
   ]
  },
  {
   "cell_type": "code",
   "execution_count": 3,
   "metadata": {},
   "outputs": [],
   "source": [
    "# add test to function \n",
    "def find_urls(json, keyy):\n",
    "    \"\"\"Read json objects and\n",
    "       retrieve raw experimental \n",
    "       data *url* from PDB entry\n",
    "       \n",
    "       Keyword arguments:\n",
    "       keyy -- name of PDB entry \n",
    "       json -- JSON object\n",
    "    \"\"\"\n",
    "    # basic urls\n",
    "    emdb_url = \"ftp://ftp.ebi.ac.uk/pub/databases/emdb/structures/\"\n",
    "    xray_url = \"http://www.ebi.ac.uk/pdbe/coordinates/files/\"\n",
    "    bnmr_url = \"http://www.ebi.ac.uk/pdbe/entry-files/download/\"\n",
    "    \n",
    "    # read json object\n",
    "    for item in json:\n",
    "        \n",
    "        # Electron microscopy entries\n",
    "        if item.get(\"experimental_method_class\") == \"em\":\n",
    "            # retrieve EMDB ID\n",
    "            emdb_id = [ sub.get(\"emdb_id\") \n",
    "                        for sub in item.get(\"additional_experimental_details\") ]\n",
    "            # convert e.g. \"EMD-5776\" into \"emd_5776\"\n",
    "            return [ emdb_url + emdb_id[0] + \"/map/\" + \n",
    "                     emdb_id[0].lower().replace(\"-\",\"_\") + \".map.gz\" ]\n",
    "        \n",
    "        # X-ray entries\n",
    "        elif item.get(\"experimental_method_class\") == \"x-ray\":\n",
    "            return [ xray_url + keyy + \".ccp4\" ]\n",
    "        \n",
    "        # NMR entries\n",
    "        elif item.get(\"experimental_method_class\") == \"nmr\":\n",
    "            return [ bnmr_url + keyy + \".mr\" ]\n",
    "        \n",
    "        else:\n",
    "            return \"None\"\n"
   ]
  },
  {
   "cell_type": "code",
   "execution_count": 4,
   "metadata": {},
   "outputs": [],
   "source": [
    "# add test to function \n",
    "def check_urls(url):\n",
    "    \"\"\"Handle ERROR response code \n",
    "       from server using urllib\n",
    "       \n",
    "       Keyword arguments:\n",
    "       url -- web page link\n",
    "    \"\"\"\n",
    "    req = Request(url)\n",
    "    \n",
    "    try:\n",
    "        response = urlopen(req)\n",
    "    except URLError as e:\n",
    "        if hasattr(e, 'reason'):\n",
    "            print('We failed to reach server %s' % url)\n",
    "            print('Reason: ', e.reason)\n",
    "        elif hasattr(e, 'code'):\n",
    "            print('The server %s couldn\\'t fulfill the request' % url)\n",
    "            print('Error code: ', e.code)\n",
    "    else:\n",
    "        pass"
   ]
  },
  {
   "cell_type": "code",
   "execution_count": 6,
   "metadata": {},
   "outputs": [],
   "source": [
    "# download link\n",
    "def wget_urls(url):\n",
    "    \"\"\"Download http/ftp links\n",
    "       save files on current path\n",
    "       \n",
    "       Keyword arguments:\n",
    "       urls -- web link http/ftp\n",
    "    \"\"\"\n",
    "    name = url.split(\"/\")[-1]\n",
    "    # this should work well with ftp links\n",
    "    try:\n",
    "        urlretrieve(url, name)\n",
    "        print('File %s downloaded' % name)\n",
    "    except:\n",
    "        print('Error during download of %s' % url)"
   ]
  },
  {
   "cell_type": "code",
   "execution_count": null,
   "metadata": {},
   "outputs": [],
   "source": []
  },
  {
   "cell_type": "code",
   "execution_count": null,
   "metadata": {},
   "outputs": [],
   "source": []
  },
  {
   "cell_type": "code",
   "execution_count": null,
   "metadata": {},
   "outputs": [],
   "source": []
  }
 ],
 "metadata": {
  "kernelspec": {
   "display_name": "Python 3",
   "language": "python",
   "name": "python3"
  },
  "language_info": {
   "codemirror_mode": {
    "name": "ipython",
    "version": 3
   },
   "file_extension": ".py",
   "mimetype": "text/x-python",
   "name": "python",
   "nbconvert_exporter": "python",
   "pygments_lexer": "ipython3",
   "version": "3.7.1"
  }
 },
 "nbformat": 4,
 "nbformat_minor": 2
}
